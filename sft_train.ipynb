{
 "cells": [
  {
   "cell_type": "code",
   "execution_count": null,
   "id": "8d3e2c77",
   "metadata": {},
   "outputs": [],
   "source": [
    "# !pip install trl"
   ]
  },
  {
   "cell_type": "code",
   "execution_count": null,
   "id": "fa22a979",
   "metadata": {},
   "outputs": [],
   "source": [
    "from trl import SFTTrainer, SFTConfig\n",
    "from transformers import AutoModelForCausalLM\n",
    "from transformers import TrainerCallback\n",
    "from transformers import AutoTokenizer\n",
    "\n",
    "# import matplotlib.pyplot as plt\n",
    "# from IPython.display import display, clear_output\n",
    "from transformers import EarlyStoppingCallback\n",
    "\n",
    "from datasets import load_dataset\n",
    "import os\n",
    "\n",
    "os.environ[\"CUDA_VISIBLE_DEVICES\"] = \"0\"\n",
    "os.environ[\"PYTORCH_CUDA_ALLOC_CONF\"] = \"expandable_segments:True\""
   ]
  },
  {
   "cell_type": "code",
   "execution_count": null,
   "id": "2bd47494",
   "metadata": {},
   "outputs": [],
   "source": [
    "# IN_MODEL_NAME = \"Qwen3-0.6B\"\n",
    "VERSION = \"0.5\"\n",
    "IN_MODEL_NAME = \"Llama-3.2-1B-Instruct\"\n",
    "OUT_MODEL_NAME = f\"{IN_MODEL_NAME}_SFT_{VERSION}\"\n",
    "\n",
    "INPUT_MODEL_PATH = f\"/home/odedh/SML-For-Debug/models/pre_trained/{IN_MODEL_NAME}\"\n",
    "OUTPUT_MODEL_PATH = f\"/home/odedh/SML-For-Debug/models/trained/{OUT_MODEL_NAME}\""
   ]
  },
  {
   "cell_type": "code",
   "execution_count": null,
   "id": "c0c5fdcd",
   "metadata": {},
   "outputs": [],
   "source": [
    "dataset = load_dataset(\"/home/odedh/SML-For-Debug/data/dataset/\")"
   ]
  },
  {
   "cell_type": "code",
   "execution_count": null,
   "id": "6499af67",
   "metadata": {},
   "outputs": [],
   "source": [
    "dataset"
   ]
  },
  {
   "cell_type": "code",
   "execution_count": null,
   "id": "fd09e772",
   "metadata": {},
   "outputs": [],
   "source": [
    "# load the model\n",
    "model = AutoModelForCausalLM.from_pretrained(\n",
    "    INPUT_MODEL_PATH,\n",
    "    trust_remote_code=True,\n",
    ")\n",
    "\n",
    "# Load the tokenizer\n",
    "tokenizer = AutoTokenizer.from_pretrained(INPUT_MODEL_PATH)"
   ]
  },
  {
   "cell_type": "markdown",
   "id": "8997458c",
   "metadata": {},
   "source": [
    "---\n",
    "Adding new classification tokens   \n",
    "\n",
    "\n",
    "---"
   ]
  },
  {
   "cell_type": "code",
   "execution_count": null,
   "id": "e522c706",
   "metadata": {},
   "outputs": [],
   "source": [
    "# specials = [\"<BUG_TRUE>\", \"<BUG_FALSE>\"]       # pick any unique strings\n",
    "# tokenizer.add_special_tokens({\"additional_special_tokens\": specials})\n",
    "# model.resize_token_embeddings(len(tokenizer))  # must be done after adding tokens\n",
    "# tokenizer.save_pretrained(f\"{OUTPUT_MODEL_PATH}/tokenizer\")  # save tokenizer"
   ]
  },
  {
   "cell_type": "code",
   "execution_count": null,
   "id": "5a1a5c9d",
   "metadata": {},
   "outputs": [],
   "source": [
    "# for token in specials:\n",
    "#     print(f\"Token: {token}, ID: {tokenizer.convert_tokens_to_ids(token)}\")"
   ]
  },
  {
   "cell_type": "code",
   "execution_count": null,
   "id": "3cb8cb28",
   "metadata": {},
   "outputs": [],
   "source": [
    "# def freeze_bottom_layers(model, freeze_ratio: float = 0.5):\n",
    "#     \"\"\"\n",
    "#     Freezes the bottom fraction of transformer layers.\n",
    "#     For LLaMA-like models (model.model.layers structure).\n",
    "    \n",
    "#     Args:\n",
    "#         model: Huggingface AutoModelForCausalLM\n",
    "#         freeze_ratio: Fraction of layers to freeze from the bottom (0.5 = freeze lower 50%)\n",
    "#     \"\"\"\n",
    "#     print(\"Total trainable parameters before freezing:\",\n",
    "#           sum(p.numel() for p in model.parameters() if p.requires_grad)/1e6, \"M\")\n",
    "#     # Get all transformer blocks\n",
    "#     layers = model.model.layers\n",
    "#     total_layers = len(layers)\n",
    "#     num_to_freeze = int(total_layers * freeze_ratio)\n",
    "\n",
    "#     print(f\"Freezing bottom {num_to_freeze}/{total_layers} layers ({freeze_ratio*100:.0f}%).\")\n",
    "\n",
    "#     # Freeze selected layers\n",
    "#     for idx, layer in enumerate(layers):\n",
    "#         if idx < num_to_freeze:\n",
    "#             for param in layer.parameters():\n",
    "#                 param.requires_grad = False\n",
    "\n",
    "#     # Freeze embeddings too (recommended)\n",
    "#     for param in model.model.embed_tokens.parameters():\n",
    "#         param.requires_grad = False\n",
    "\n",
    "#     # Always keep lm_head trainable\n",
    "#     print(f\"Finished freezing. Total trainable params: {sum(p.numel() for p in model.parameters() if p.requires_grad)/1e6:.1f}M\")\n",
    "\n",
    "# freeze_bottom_layers(model, freeze_ratio=0.1)\n"
   ]
  },
  {
   "cell_type": "code",
   "execution_count": null,
   "id": "bfc2b3ff",
   "metadata": {},
   "outputs": [],
   "source": [
    "max_steps = 10_000\n",
    "\n",
    "training_args = SFTConfig(\n",
    "    output_dir = OUTPUT_MODEL_PATH,\n",
    "    per_device_train_batch_size = 6,\n",
    "    per_device_eval_batch_size = 6,\n",
    "    learning_rate = 1e-05,\n",
    "    gradient_accumulation_steps = 2,\n",
    "    max_steps = max_steps,\n",
    "    warmup_steps=max_steps // 10, # 10% of max_steps\n",
    "    # num_train_epochs = 10,\n",
    "    \n",
    "    logging_strategy = \"steps\",\n",
    "    logging_steps = 50,\n",
    "    save_strategy = \"steps\",\n",
    "    save_steps = 50,\n",
    "    eval_strategy = \"steps\",\n",
    "    eval_steps = 50,\n",
    "    bf16 = True,\n",
    "    data_seed=42,\n",
    "    gradient_checkpointing=False,\n",
    "    report_to = \"none\",\n",
    "    load_best_model_at_end= True,\n",
    "    metric_for_best_model= \"eval_loss\",\n",
    "    max_grad_norm=1.0,\n",
    "    save_total_limit=3,\n",
    "    optim=\"adamw_torch\",\n",
    "    lr_scheduler_type=\"cosine_with_restarts\",\n",
    "    \n",
    "    weight_decay=0.05,\n",
    ")\n",
    "\n",
    "\n",
    "trainer = SFTTrainer(\n",
    "    model=model,\n",
    "    args=training_args,\n",
    "    train_dataset=dataset['train'],\n",
    "    eval_dataset=dataset['test'],\n",
    ")\n",
    "\n",
    "trainer.add_callback(EarlyStoppingCallback(\n",
    "    early_stopping_patience=8,     # stop after 8 evals with no loss improvement\n",
    "    early_stopping_threshold=0.0)\n",
    ")"
   ]
  },
  {
   "cell_type": "code",
   "execution_count": null,
   "id": "64eaf895",
   "metadata": {},
   "outputs": [],
   "source": [
    "class LRSchedulerLogger(TrainerCallback):\n",
    "    def on_step_end(self, args, state, control, **kwargs):\n",
    "        if state.global_step % 100 == 0:\n",
    "            current_lr = trainer.optimizer.param_groups[0]['lr']\n",
    "            print(f\"Step {state.global_step}: LR = {current_lr:.6e}\")\n",
    "\n",
    "\n",
    "trainer.add_callback(LRSchedulerLogger())"
   ]
  },
  {
   "cell_type": "code",
   "execution_count": null,
   "id": "c193f634",
   "metadata": {},
   "outputs": [],
   "source": [
    "trainer.train()"
   ]
  }
 ],
 "metadata": {
  "kernelspec": {
   "display_name": ".venv",
   "language": "python",
   "name": "python3"
  },
  "language_info": {
   "codemirror_mode": {
    "name": "ipython",
    "version": 3
   },
   "file_extension": ".py",
   "mimetype": "text/x-python",
   "name": "python",
   "nbconvert_exporter": "python",
   "pygments_lexer": "ipython3",
   "version": "3.10.12"
  }
 },
 "nbformat": 4,
 "nbformat_minor": 5
}
