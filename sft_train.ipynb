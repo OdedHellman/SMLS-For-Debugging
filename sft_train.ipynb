{
 "cells": [
  {
   "cell_type": "code",
   "execution_count": 1,
   "id": "8d3e2c77",
   "metadata": {},
   "outputs": [],
   "source": [
    "# !pip install trl"
   ]
  },
  {
   "cell_type": "code",
   "execution_count": 2,
   "id": "fa22a979",
   "metadata": {},
   "outputs": [
    {
     "name": "stderr",
     "output_type": "stream",
     "text": [
      "/home/odedh/SML-For-Debug/.venv/lib/python3.10/site-packages/tqdm/auto.py:21: TqdmWarning: IProgress not found. Please update jupyter and ipywidgets. See https://ipywidgets.readthedocs.io/en/stable/user_install.html\n",
      "  from .autonotebook import tqdm as notebook_tqdm\n"
     ]
    }
   ],
   "source": [
    "from trl import SFTTrainer, SFTConfig\n",
    "from transformers import AutoModelForCausalLM\n",
    "from transformers import TrainerCallback\n",
    "from transformers import AutoTokenizer\n",
    "\n",
    "# import matplotlib.pyplot as plt\n",
    "# from IPython.display import display, clear_output\n",
    "from transformers import EarlyStoppingCallback\n",
    "\n",
    "from datasets import load_dataset\n",
    "import os\n",
    "\n",
    "os.environ[\"CUDA_VISIBLE_DEVICES\"] = \"1\"\n",
    "os.environ[\"PYTORCH_CUDA_ALLOC_CONF\"] = \"expandable_segments:True\""
   ]
  },
  {
   "cell_type": "code",
   "execution_count": 3,
   "id": "2bd47494",
   "metadata": {},
   "outputs": [],
   "source": [
    "# IN_MODEL_NAME = \"Qwen3-0.6B\"\n",
    "VERSION = \"0.9\"\n",
    "IN_MODEL_NAME = \"Llama-3.2-1B-Instruct\"\n",
    "OUT_MODEL_NAME = f\"{IN_MODEL_NAME}_SFT_{VERSION}\"\n",
    "\n",
    "INPUT_MODEL_PATH = f\"/home/odedh/SML-For-Debug/models/pre_trained/{IN_MODEL_NAME}\"\n",
    "OUTPUT_MODEL_PATH = f\"/home/odedh/SML-For-Debug/models/trained/{OUT_MODEL_NAME}\""
   ]
  },
  {
   "cell_type": "code",
   "execution_count": 4,
   "id": "c0c5fdcd",
   "metadata": {},
   "outputs": [
    {
     "data": {
      "text/plain": [
       "DatasetDict({\n",
       "    train: Dataset({\n",
       "        features: ['prompt', 'completion'],\n",
       "        num_rows: 2861\n",
       "    })\n",
       "    test: Dataset({\n",
       "        features: ['prompt', 'completion'],\n",
       "        num_rows: 317\n",
       "    })\n",
       "})"
      ]
     },
     "execution_count": 4,
     "metadata": {},
     "output_type": "execute_result"
    }
   ],
   "source": [
    "dataset = load_dataset(\"/home/odedh/SML-For-Debug/data/dataset2.0/\")\n",
    "dataset"
   ]
  },
  {
   "cell_type": "code",
   "execution_count": 5,
   "id": "fd09e772",
   "metadata": {},
   "outputs": [],
   "source": [
    "# load the model\n",
    "model = AutoModelForCausalLM.from_pretrained(\n",
    "    INPUT_MODEL_PATH,\n",
    "    trust_remote_code=True,\n",
    ")\n",
    "\n",
    "# Load the tokenizer\n",
    "tokenizer = AutoTokenizer.from_pretrained(INPUT_MODEL_PATH)"
   ]
  },
  {
   "cell_type": "markdown",
   "id": "8997458c",
   "metadata": {},
   "source": [
    "---\n",
    "Adding new classification tokens   \n",
    "\n",
    "\n",
    "---"
   ]
  },
  {
   "cell_type": "code",
   "execution_count": 6,
   "id": "e522c706",
   "metadata": {},
   "outputs": [],
   "source": [
    "# specials = [\"<BUG_TRUE>\", \"<BUG_FALSE>\"]       # pick any unique strings\n",
    "# tokenizer.add_special_tokens({\"additional_special_tokens\": specials})\n",
    "# model.resize_token_embeddings(len(tokenizer))  # must be done after adding tokens\n",
    "# tokenizer.save_pretrained(f\"{OUTPUT_MODEL_PATH}/tokenizer\")  # save tokenizer"
   ]
  },
  {
   "cell_type": "code",
   "execution_count": 7,
   "id": "5a1a5c9d",
   "metadata": {},
   "outputs": [],
   "source": [
    "# for token in specials:\n",
    "#     print(f\"Token: {token}, ID: {tokenizer.convert_tokens_to_ids(token)}\")"
   ]
  },
  {
   "cell_type": "code",
   "execution_count": 8,
   "id": "3cb8cb28",
   "metadata": {},
   "outputs": [],
   "source": [
    "# def freeze_bottom_layers(model, freeze_ratio: float = 0.5):\n",
    "#     \"\"\"\n",
    "#     Freezes the bottom fraction of transformer layers.\n",
    "#     For LLaMA-like models (model.model.layers structure).\n",
    "    \n",
    "#     Args:\n",
    "#         model: Huggingface AutoModelForCausalLM\n",
    "#         freeze_ratio: Fraction of layers to freeze from the bottom (0.5 = freeze lower 50%)\n",
    "#     \"\"\"\n",
    "#     print(\"Total trainable parameters before freezing:\",\n",
    "#           sum(p.numel() for p in model.parameters() if p.requires_grad)/1e6, \"M\")\n",
    "#     # Get all transformer blocks\n",
    "#     layers = model.model.layers\n",
    "#     total_layers = len(layers)\n",
    "#     num_to_freeze = int(total_layers * freeze_ratio)\n",
    "\n",
    "#     print(f\"Freezing bottom {num_to_freeze}/{total_layers} layers ({freeze_ratio*100:.0f}%).\")\n",
    "\n",
    "#     # Freeze selected layers\n",
    "#     for idx, layer in enumerate(layers):\n",
    "#         if idx < num_to_freeze:\n",
    "#             for param in layer.parameters():\n",
    "#                 param.requires_grad = False\n",
    "\n",
    "#     # Freeze embeddings too (recommended)\n",
    "#     for param in model.model.embed_tokens.parameters():\n",
    "#         param.requires_grad = False\n",
    "\n",
    "#     # Always keep lm_head trainable\n",
    "#     print(f\"Finished freezing. Total trainable params: {sum(p.numel() for p in model.parameters() if p.requires_grad)/1e6:.1f}M\")\n",
    "\n",
    "# freeze_bottom_layers(model, freeze_ratio=0.1)\n"
   ]
  },
  {
   "cell_type": "code",
   "execution_count": 9,
   "id": "bfc2b3ff",
   "metadata": {},
   "outputs": [],
   "source": [
    "max_steps = 3000\n",
    "\n",
    "training_args = SFTConfig(\n",
    "    output_dir = OUTPUT_MODEL_PATH,\n",
    "    per_device_train_batch_size = 6,\n",
    "    per_device_eval_batch_size = 6,\n",
    "    learning_rate = 1e-05,\n",
    "    gradient_accumulation_steps = 2,\n",
    "    max_steps = max_steps,\n",
    "    warmup_steps=max_steps // 10, # 10% of max_steps\n",
    "    # num_train_epochs = 10,\n",
    "    \n",
    "    logging_strategy = \"steps\",\n",
    "    logging_steps = 500,\n",
    "    save_strategy = \"steps\",\n",
    "    save_steps = 500,\n",
    "    eval_strategy = \"steps\",\n",
    "    eval_steps = 500,\n",
    "    bf16 = True,\n",
    "    data_seed=42,\n",
    "    gradient_checkpointing=False,\n",
    "    report_to = \"none\",\n",
    "    load_best_model_at_end= True,\n",
    "    metric_for_best_model= \"eval_loss\",\n",
    "    max_grad_norm=1.0,\n",
    "    save_total_limit=10,\n",
    "    optim=\"adamw_torch\",\n",
    "    lr_scheduler_type=\"cosine_with_restarts\",\n",
    "    weight_decay=0.04,\n",
    ")\n",
    "\n",
    "\n",
    "trainer = SFTTrainer(\n",
    "    model=model,\n",
    "    args=training_args,\n",
    "    train_dataset=dataset['train'],\n",
    "    eval_dataset=dataset['test'],\n",
    ")\n",
    "\n",
    "trainer.add_callback(EarlyStoppingCallback(\n",
    "    early_stopping_patience=500, #FIXME\n",
    "    early_stopping_threshold=0.0)\n",
    ")"
   ]
  },
  {
   "cell_type": "code",
   "execution_count": 10,
   "id": "64eaf895",
   "metadata": {},
   "outputs": [],
   "source": [
    "class LRSchedulerLogger(TrainerCallback):\n",
    "    def on_step_end(self, args, state, control, **kwargs):\n",
    "        if state.global_step % 100 == 0:\n",
    "            current_lr = trainer.optimizer.param_groups[0]['lr']\n",
    "            print(f\"Step {state.global_step}: LR = {current_lr:.6e}\")\n",
    "\n",
    "\n",
    "trainer.add_callback(LRSchedulerLogger())"
   ]
  },
  {
   "cell_type": "code",
   "execution_count": 11,
   "id": "c193f634",
   "metadata": {},
   "outputs": [
    {
     "data": {
      "text/html": [
       "\n",
       "    <div>\n",
       "      \n",
       "      <progress value='3000' max='3000' style='width:300px; height:20px; vertical-align: middle;'></progress>\n",
       "      [3000/3000 59:15, Epoch 12/13]\n",
       "    </div>\n",
       "    <table border=\"1\" class=\"dataframe\">\n",
       "  <thead>\n",
       " <tr style=\"text-align: left;\">\n",
       "      <th>Step</th>\n",
       "      <th>Training Loss</th>\n",
       "      <th>Validation Loss</th>\n",
       "    </tr>\n",
       "  </thead>\n",
       "  <tbody>\n",
       "    <tr>\n",
       "      <td>500</td>\n",
       "      <td>0.290900</td>\n",
       "      <td>nan</td>\n",
       "    </tr>\n",
       "    <tr>\n",
       "      <td>1000</td>\n",
       "      <td>0.111700</td>\n",
       "      <td>nan</td>\n",
       "    </tr>\n",
       "    <tr>\n",
       "      <td>1500</td>\n",
       "      <td>0.044900</td>\n",
       "      <td>nan</td>\n",
       "    </tr>\n",
       "    <tr>\n",
       "      <td>2000</td>\n",
       "      <td>0.013100</td>\n",
       "      <td>nan</td>\n",
       "    </tr>\n",
       "    <tr>\n",
       "      <td>2500</td>\n",
       "      <td>0.001800</td>\n",
       "      <td>nan</td>\n",
       "    </tr>\n",
       "    <tr>\n",
       "      <td>3000</td>\n",
       "      <td>0.000200</td>\n",
       "      <td>nan</td>\n",
       "    </tr>\n",
       "  </tbody>\n",
       "</table><p>"
      ],
      "text/plain": [
       "<IPython.core.display.HTML object>"
      ]
     },
     "metadata": {},
     "output_type": "display_data"
    },
    {
     "name": "stdout",
     "output_type": "stream",
     "text": [
      "Step 100: LR = 3.333333e-06\n",
      "Step 200: LR = 6.666667e-06\n",
      "Step 300: LR = 1.000000e-05\n",
      "Step 400: LR = 9.966192e-06\n",
      "Step 500: LR = 9.865224e-06\n",
      "Step 600: LR = 9.698463e-06\n",
      "Step 700: LR = 9.468163e-06\n",
      "Step 800: LR = 9.177439e-06\n",
      "Step 900: LR = 8.830222e-06\n",
      "Step 1000: LR = 8.431208e-06\n",
      "Step 1100: LR = 7.985793e-06\n",
      "Step 1200: LR = 7.500000e-06\n",
      "Step 1300: LR = 6.980399e-06\n",
      "Step 1400: LR = 6.434016e-06\n",
      "Step 1500: LR = 5.868241e-06\n",
      "Step 1600: LR = 5.290724e-06\n",
      "Step 1700: LR = 4.709276e-06\n",
      "Step 1800: LR = 4.131759e-06\n",
      "Step 1900: LR = 3.565984e-06\n",
      "Step 2000: LR = 3.019601e-06\n",
      "Step 2100: LR = 2.500000e-06\n",
      "Step 2200: LR = 2.014207e-06\n",
      "Step 2300: LR = 1.568792e-06\n",
      "Step 2400: LR = 1.169778e-06\n",
      "Step 2500: LR = 8.225609e-07\n",
      "Step 2600: LR = 5.318368e-07\n",
      "Step 2700: LR = 3.015369e-07\n",
      "Step 2800: LR = 1.347756e-07\n",
      "Step 2900: LR = 3.380821e-08\n",
      "Step 3000: LR = 0.000000e+00\n"
     ]
    },
    {
     "data": {
      "text/plain": [
       "TrainOutput(global_step=3000, training_loss=0.07709696399917206, metrics={'train_runtime': 3556.4978, 'train_samples_per_second': 10.122, 'train_steps_per_second': 0.844, 'total_flos': 2.1474211282078925e+17, 'train_loss': 0.07709696399917206})"
      ]
     },
     "execution_count": 11,
     "metadata": {},
     "output_type": "execute_result"
    }
   ],
   "source": [
    "trainer.train()"
   ]
  }
 ],
 "metadata": {
  "kernelspec": {
   "display_name": ".venv",
   "language": "python",
   "name": "python3"
  },
  "language_info": {
   "codemirror_mode": {
    "name": "ipython",
    "version": 3
   },
   "file_extension": ".py",
   "mimetype": "text/x-python",
   "name": "python",
   "nbconvert_exporter": "python",
   "pygments_lexer": "ipython3",
   "version": "3.10.12"
  }
 },
 "nbformat": 4,
 "nbformat_minor": 5
}
