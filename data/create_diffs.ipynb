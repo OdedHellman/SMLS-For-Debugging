{
 "cells": [
  {
   "cell_type": "code",
   "execution_count": 1,
   "id": "1c929b14",
   "metadata": {},
   "outputs": [],
   "source": [
    "import pandas as pd\n",
    "import difflib\n",
    "from tqdm import tqdm\n",
    "import json\n",
    "import os\n",
    "import subprocess\n",
    "import tempfile\n",
    "import ast"
   ]
  },
  {
   "cell_type": "code",
   "execution_count": 2,
   "id": "86962945",
   "metadata": {},
   "outputs": [
    {
     "data": {
      "application/vnd.microsoft.datawrangler.viewer.v0+json": {
       "columns": [
        {
         "name": "index",
         "rawType": "int64",
         "type": "integer"
        },
        {
         "name": "Fixed_Method",
         "rawType": "object",
         "type": "string"
        },
        {
         "name": "Faulty Code",
         "rawType": "object",
         "type": "string"
        },
        {
         "name": "Fault Free Code",
         "rawType": "object",
         "type": "string"
        }
       ],
       "ref": "72963689-0683-4b17-9e82-09c1c9f404ba",
       "rows": [
        [
         "0",
         "_make_sqlite_account_info(self, env=None, last_upgrade_to_run=None)",
         "def _make_sqlite_account_info(self, env=None, last_upgrade_to_run=None):\\n\\t\\twith mock.patch('os.environ', env or {'HOME': self.home}):\\n\\t\\t\\treturn SqliteAccountInfo(\\n\\t\\t\\t\\tfile_name=self.db_path if not env else None,\\n\\t\\t\\t\\tlast_upgrade_to_run=last_upgrade_to_run,\\n\\t\\t\\t)",
         "def _make_sqlite_account_info(self, env=None, last_upgrade_to_run=None):\\n\\t\\twith mock.patch('os.environ', env or {'HOME': self.test_home}):\\n\\t\\t\\treturn SqliteAccountInfo(\\n\\t\\t\\t\\tfile_name=self.db_path if not env else None,\\n\\t\\t\\t\\tlast_upgrade_to_run=last_upgrade_to_run,\\n\\t\\t\\t)"
        ],
        [
         "1",
         "def _validate_source(source, req)",
         "def _validate_source(source, req):\\n\\t\\tif source:\\n\\t\\t\\tpieces = urlparse.urlparse(source)\\n\\t\\t\\tschemes = [scheme for scheme in store.get_known_schemes()\\n\\t\\t\\t\\t\\t   if scheme != 'file']\\n\\t\\t\\tfor scheme in schemes:\\n\\t\\t\\t\\tif pieces.scheme == scheme:\\n\\t\\t\\t\\t\\treturn source\\n\\t\\t\\tmsg = \"External sourcing not supported for store %s\" % source\\n\\t\\t\\tLOG.debug(msg)\\n\\t\\t\\traise HTTPBadRequest(explanation=msg,\\n\\t\\t\\t\\t\\t\\t\\t\\t request=req,\\n\\t\\t\\t\\t\\t\\t\\t\\t content_type=\"text/plain\")",
         "def _validate_source(source, req):\\n\\t\\tif source:\\n\\t\\t\\tpieces = urlparse.urlparse(source)\\n\\t\\t\\tschemes = [scheme for scheme in store.get_known_schemes()\\n\\t\\t\\t\\t\\t   if scheme != 'file' and scheme != 'swift+config']\\n\\t\\t\\tfor scheme in schemes:\\n\\t\\t\\t\\tif pieces.scheme == scheme:\\n\\t\\t\\t\\t\\treturn source\\n\\t\\t\\tmsg = (\"External sourcing not supported for \"\\n\\t\\t\\t\\t   \"store '%s'\" % pieces.scheme)\\n\\t\\t\\tLOG.debug(msg)\\n\\t\\t\\traise HTTPBadRequest(explanation=msg,\\n\\t\\t\\t\\t\\t\\t\\t\\t request=req,\\n\\t\\t\\t\\t\\t\\t\\t\\t content_type=\"text/plain\")"
        ],
        [
         "2",
         "def _single_run(self, application, sock)",
         "def _single_run(self, application, sock):\\n\\t\\tself.logger.info(_(\"Starting single process server\"))\\n\\t\\teventlet.wsgi.server(sock, application, custom_pool=self.pool,\\n\\t\\t\\t\\t\\t\\t\\t log=WritableLogger(self.logger))",
         "def _single_run(self, application, sock):\\n\\t\\tself.logger.info(_(\"Starting single process server\"))\\n\\t\\teventlet.wsgi.server(sock, application, custom_pool=self.pool,\\n\\t\\t\\t\\t\\t\\t\\t log=WritableLogger(self.logger), debug=False)"
        ],
        [
         "3",
         "def get_api_response_ext(self, http_resp, url='/images', headers={},",
         "def get_api_response_ext(self, http_resp, url='/images', headers={},\\n\\t\\t\\t\\t\\t\\t\\t body=None, method=None, api=None,\\n\\t\\t\\t\\t\\t\\t\\t content_type=None):\\n\\t\\tif api is None:\\n\\t\\t\\tapi = self.api\\n\\t\\treq = webob.Request.blank(url)\\n\\t\\tfor k, v in headers.iteritems():\\n\\t\\t\\treq.headers[k] = v\\n\\t\\tif method:\\n\\t\\t\\treq.method = method\\n\\t\\tif body:\\n\\t\\t\\treq.body = body\\n\\t\\tif content_type == 'json':\\n\\t\\t\\treq.content_type = 'application/json'\\n\\t\\telif content_type == 'octet':\\n\\t\\t\\treq.content_type = 'application/octet-stream'\\n\\t\\tres = req.get_response(api)\\n\\t\\tself.assertEqual(res.status_int, http_resp)\\n\\t\\treturn res",
         "def get_api_response_ext(self, http_resp, url='/images', headers=None,\\n\\t\\t\\t\\t\\t\\t\\t body=None, method=None, api=None,\\n\\t\\t\\t\\t\\t\\t\\t content_type=None):\\n\\t\\tif api is None:\\n\\t\\t\\tapi = self.api\\n\\t\\tif headers is None:\\n\\t\\t\\theaders = {}\\n\\t\\treq = webob.Request.blank(url)\\n\\t\\tfor k, v in headers.iteritems():\\n\\t\\t\\treq.headers[k] = v\\n\\t\\tif method:\\n\\t\\t\\treq.method = method\\n\\t\\tif body:\\n\\t\\t\\treq.body = body\\n\\t\\tif content_type == 'json':\\n\\t\\t\\treq.content_type = 'application/json'\\n\\t\\telif content_type == 'octet':\\n\\t\\t\\treq.content_type = 'application/octet-stream'\\n\\t\\tres = req.get_response(api)\\n\\t\\tself.assertEqual(res.status_int, http_resp)\\n\\t\\treturn res"
        ],
        [
         "4",
         "def delete(self)",
         "def delete(self):\\n\\t\\tself._run_command(\"delete\", None)",
         "def delete(self):\\n\\t\\tself._run_command([\"delete\"], None)"
        ],
        [
         "5",
         "def run_server(self)",
         "def run_server(self):\\n\\t\\tif cfg.CONF.pydev_worker_debug_host:\\n\\t\\t\\tutils.setup_remote_pydev_debug(cfg.CONF.pydev_worker_debug_host,\\n\\t\\t\\t\\t\\t\\t\\t\\t\\t\\t   cfg.CONF.pydev_worker_debug_port)\\n\\t\\teventlet.wsgi.HttpProtocol.default_request_version = \"HTTP/1.0\"\\n\\t\\ttry:\\n\\t\\t\\teventlet.hubs.use_hub('poll')\\n\\t\\texcept Exception:\\n\\t\\t\\tmsg = _(\"eventlet 'poll' hub is not available on this platform\")\\n\\t\\t\\traise exception.WorkerCreationFailure(reason=msg)\\n\\t\\tself.pool = self.create_pool()\\n\\t\\ttry:\\n\\t\\t\\teventlet.wsgi.server(self.sock,\\n\\t\\t\\t\\t\\t\\t\\t\\t self.application,\\n\\t\\t\\t\\t\\t\\t\\t\\t log=WritableLogger(self.logger),\\n\\t\\t\\t\\t\\t\\t\\t\\t custom_pool=self.pool)\\n\\t\\texcept socket.error as err:\\n\\t\\t\\tif err[0] != errno.EINVAL:\\n\\t\\t\\t\\traise\\n\\t\\tself.pool.waitall()",
         "def run_server(self):\\n\\t\\tif cfg.CONF.pydev_worker_debug_host:\\n\\t\\t\\tutils.setup_remote_pydev_debug(cfg.CONF.pydev_worker_debug_host,\\n\\t\\t\\t\\t\\t\\t\\t\\t\\t\\t   cfg.CONF.pydev_worker_debug_port)\\n\\t\\teventlet.wsgi.HttpProtocol.default_request_version = \"HTTP/1.0\"\\n\\t\\ttry:\\n\\t\\t\\teventlet.hubs.use_hub('poll')\\n\\t\\texcept Exception:\\n\\t\\t\\tmsg = _(\"eventlet 'poll' hub is not available on this platform\")\\n\\t\\t\\traise exception.WorkerCreationFailure(reason=msg)\\n\\t\\tself.pool = self.create_pool()\\n\\t\\ttry:\\n\\t\\t\\teventlet.wsgi.server(self.sock,\\n\\t\\t\\t\\t\\t\\t\\t\\t self.application,\\n\\t\\t\\t\\t\\t\\t\\t\\t log=WritableLogger(self.logger),\\n\\t\\t\\t\\t\\t\\t\\t\\t custom_pool=self.pool,\\n\\t\\t\\t\\t\\t\\t\\t\\t debug=False)\\n\\t\\texcept socket.error as err:\\n\\t\\t\\tif err[0] != errno.EINVAL:\\n\\t\\t\\t\\traise\\n\\t\\tself.pool.waitall()"
        ],
        [
         "6",
         "def parse_uri(self, uri)",
         "def parse_uri(self, uri):\\n\\t\\tif not uri.startswith('sheepdog://'):\\n\\t\\t\\traise exception.BadStoreUri(uri, \"URI must start with %s://\" %\\n\\t\\t\\t\\t\\t\\t\\t\\t\\t\\t'sheepdog')\\n\\t\\tself.image = uri[11:]",
         "def parse_uri(self, uri):\\n\\t\\tvalid_schema = 'sheepdog://'\\n\\t\\tif not uri.startswith(valid_schema):\\n\\t\\t\\traise exception.BadStoreUri(_(\"URI must start with %s://\") %\\n\\t\\t\\t\\t\\t\\t\\t\\t\\t\\tvalid_schema)\\n\\t\\tself.image = uri[len(valid_schema):]\\n\\t\\tif not utils.is_uuid_like(self.image):\\n\\t\\t\\traise exception.BadStoreUri(_(\"URI must contains well-formated \"\\n\\t\\t\\t\\t\\t\\t\\t\\t\\t\\t  \"image id\"))"
        ],
        [
         "7",
         "def execute(self, file_path, **kwargs)",
         "def execute(self, file_path, **kwargs):\\n\\t\\ttarget_format = CONF.conversion_plugin_options.output_format\\n\\t\\tsrc_path = file_path.split('file://')[-1]\\n\\t\\tdest_path = \"%(path)s.%(target)s\" % {'path': src_path,\\n\\t\\t\\t\\t\\t\\t\\t\\t\\t\\t\\t 'target': target_format}\\n\\t\\tself.dest_path = dest_path\\n\\t\\ttry:\\n\\t\\t\\tstdout, stderr = putils.trycmd(\"qemu-img\", \"info\",\\n\\t\\t\\t\\t\\t\\t\\t\\t\\t\\t   \"--output=json\",\\n\\t\\t\\t\\t\\t\\t\\t\\t\\t\\t   src_path,\\n\\t\\t\\t\\t\\t\\t\\t\\t\\t\\t   prlimit=utils.QEMU_IMG_PROC_LIMITS,\\n\\t\\t\\t\\t\\t\\t\\t\\t\\t\\t   log_errors=putils.LOG_ALL_ERRORS,)\\n\\t\\texcept OSError as exc:\\n\\t\\t\\twith excutils.save_and_reraise_exception():\\n\\t\\t\\t\\texc_message = encodeutils.exception_to_unicode(exc)\\n\\t\\t\\t\\tmsg = (\"Failed to do introspection as part of image \"\\n\\t\\t\\t\\t\\t   \"conversion for %(iid)s: %(err)s\")\\n\\t\\t\\t\\tLOG.error(msg, {'iid': self.image_id, 'err': exc_message})\\n\\t\\tif stderr:\\n\\t\\t\\traise RuntimeError(stderr)\\n\\t\\tmetadata = json.loads(stdout)\\n\\t\\tsource_format = metadata.get('format')\\n\\t\\tvirtual_size = metadata.get('virtual-size', 0)\\n\\t\\timage = self.image_repo.get(self.image_id)\\n\\t\\timage.virtual_size = virtual_size\\n\\t\\tif source_format == target_format:\\n\\t\\t\\tLOG.debug(\"Source is already in target format, \"\\n\\t\\t\\t\\t\\t  \"not doing conversion for %s\", self.image_id)\\n\\t\\t\\tself.image_repo.save(image)\\n\\t\\t\\treturn file_path\\n\\t\\ttry:\\n\\t\\t\\tstdout, stderr = putils.trycmd('qemu-img', 'convert',\\n\\t\\t\\t\\t\\t\\t\\t\\t\\t\\t   '-f', source_format,\\n\\t\\t\\t\\t\\t\\t\\t\\t\\t\\t   '-O', target_format,\\n\\t\\t\\t\\t\\t\\t\\t\\t\\t\\t   src_path, dest_path,\\n\\t\\t\\t\\t\\t\\t\\t\\t\\t\\t   log_errors=putils.LOG_ALL_ERRORS)\\n\\t\\texcept OSError as exc:\\n\\t\\t\\twith excutils.save_and_reraise_exception():\\n\\t\\t\\t\\texc_message = encodeutils.exception_to_unicode(exc)\\n\\t\\t\\t\\tmsg = \"Failed to do image conversion for %(iid)s: %(err)s\"\\n\\t\\t\\t\\tLOG.error(msg, {'iid': self.image_id, 'err': exc_message})\\n\\t\\tif stderr:\\n\\t\\t\\traise RuntimeError(stderr)\\n\\t\\timage.disk_format = target_format\\n\\t\\timage.container_format = 'bare'\\n\\t\\tself.image_repo.save(image)\\n\\t\\tos.remove(src_path)\\n\\t\\treturn \"file://%s\" % dest_path",
         "def execute(self, file_path, **kwargs):\\n\\t\\ttarget_format = CONF.image_conversion.output_format\\n\\t\\tsrc_path = file_path.split('file://')[-1]\\n\\t\\tdest_path = \"%(path)s.%(target)s\" % {'path': src_path,\\n\\t\\t\\t\\t\\t\\t\\t\\t\\t\\t\\t 'target': target_format}\\n\\t\\tself.dest_path = dest_path\\n\\t\\ttry:\\n\\t\\t\\tstdout, stderr = putils.trycmd(\"qemu-img\", \"info\",\\n\\t\\t\\t\\t\\t\\t\\t\\t\\t\\t   \"--output=json\",\\n\\t\\t\\t\\t\\t\\t\\t\\t\\t\\t   src_path,\\n\\t\\t\\t\\t\\t\\t\\t\\t\\t\\t   prlimit=utils.QEMU_IMG_PROC_LIMITS,\\n\\t\\t\\t\\t\\t\\t\\t\\t\\t\\t   log_errors=putils.LOG_ALL_ERRORS,)\\n\\t\\texcept OSError as exc:\\n\\t\\t\\twith excutils.save_and_reraise_exception():\\n\\t\\t\\t\\texc_message = encodeutils.exception_to_unicode(exc)\\n\\t\\t\\t\\tmsg = (\"Failed to do introspection as part of image \"\\n\\t\\t\\t\\t\\t   \"conversion for %(iid)s: %(err)s\")\\n\\t\\t\\t\\tLOG.error(msg, {'iid': self.image_id, 'err': exc_message})\\n\\t\\tif stderr:\\n\\t\\t\\traise RuntimeError(stderr)\\n\\t\\tmetadata = json.loads(stdout)\\n\\t\\tsource_format = metadata.get('format')\\n\\t\\tvirtual_size = metadata.get('virtual-size', 0)\\n\\t\\timage = self.image_repo.get(self.image_id)\\n\\t\\timage.virtual_size = virtual_size\\n\\t\\tif source_format == target_format:\\n\\t\\t\\tLOG.debug(\"Source is already in target format, \"\\n\\t\\t\\t\\t\\t  \"not doing conversion for %s\", self.image_id)\\n\\t\\t\\tself.image_repo.save(image)\\n\\t\\t\\treturn file_path\\n\\t\\ttry:\\n\\t\\t\\tstdout, stderr = putils.trycmd('qemu-img', 'convert',\\n\\t\\t\\t\\t\\t\\t\\t\\t\\t\\t   '-f', source_format,\\n\\t\\t\\t\\t\\t\\t\\t\\t\\t\\t   '-O', target_format,\\n\\t\\t\\t\\t\\t\\t\\t\\t\\t\\t   src_path, dest_path,\\n\\t\\t\\t\\t\\t\\t\\t\\t\\t\\t   log_errors=putils.LOG_ALL_ERRORS)\\n\\t\\texcept OSError as exc:\\n\\t\\t\\twith excutils.save_and_reraise_exception():\\n\\t\\t\\t\\texc_message = encodeutils.exception_to_unicode(exc)\\n\\t\\t\\t\\tmsg = \"Failed to do image conversion for %(iid)s: %(err)s\"\\n\\t\\t\\t\\tLOG.error(msg, {'iid': self.image_id, 'err': exc_message})\\n\\t\\tif stderr:\\n\\t\\t\\traise RuntimeError(stderr)\\n\\t\\timage.disk_format = target_format\\n\\t\\timage.container_format = 'bare'\\n\\t\\tself.image_repo.save(image)\\n\\t\\tos.remove(src_path)\\n\\t\\treturn \"file://%s\" % dest_path"
        ],
        [
         "8",
         "def set_acls(self, location, public=False, read_tenants=[],",
         "def set_acls(self, location, public=False, read_tenants=[],\\n\\t\\t\\t\\t write_tenants=[]):\\n\\t\\t\"\"\"\\n\\t\\tSets the read and write access control list for an image in the\\n\\t\\tbackend store.\\n\\t\\t:location `glance.store.location.Location` object, supplied",
         "def set_acls(self, location, public=False, read_tenants=None,\\n\\t\\t\\t\\t write_tenants=None):\\n\\t\\t\"\"\"\\n\\t\\tSets the read and write access control list for an image in the\\n\\t\\tbackend store.\\n\\t\\t:location `glance.store.location.Location` object, supplied"
        ],
        [
         "9",
         "def _run_command(self, command, data, *params)",
         "def _run_command(self, command, data, *params):\\n\\t\\tcmd = (\"collie vdi %(command)s -a %(addr)s -p %(port)d %(name)s \"\\n\\t\\t\\t   \"%(params)s\" %\\n\\t\\t\\t   {\"command\": command,\\n\\t\\t\\t\\t\"addr\": self.addr,\\n\\t\\t\\t\\t\"port\": self.port,\\n\\t\\t\\t\\t\"name\": self.name,\\n\\t\\t\\t\\t\"params\": \" \".join(map(str, params))})\\n\\t\\ttry:\\n\\t\\t\\treturn processutils.execute(\\n\\t\\t\\t\\tcmd, process_input=data, shell=True)[0]\\n\\t\\texcept processutils.ProcessExecutionError as exc:\\n\\t\\t\\tLOG.error(exc)\\n\\t\\t\\traise glance.store.BackendException(exc)",
         "def _run_command(self, command, data, *params):\\n\\t\\tcmd = [\"collie\", \"vdi\"]\\n\\t\\tcmd.extend(command)\\n\\t\\tcmd.extend([\"-a\", self.addr, \"-p\", self.port, self.name])\\n\\t\\tcmd.extend(params)\\n\\t\\ttry:\\n\\t\\t\\treturn processutils.execute(*cmd, process_input=data)[0]\\n\\t\\texcept (processutils.ProcessExecutionError, OSError) as exc:\\n\\t\\t\\tLOG.error(exc)\\n\\t\\t\\traise glance.store.BackendException(exc)"
        ]
       ],
       "shape": {
        "columns": 3,
        "rows": 10
       }
      },
      "text/html": [
       "<div>\n",
       "<style scoped>\n",
       "    .dataframe tbody tr th:only-of-type {\n",
       "        vertical-align: middle;\n",
       "    }\n",
       "\n",
       "    .dataframe tbody tr th {\n",
       "        vertical-align: top;\n",
       "    }\n",
       "\n",
       "    .dataframe thead th {\n",
       "        text-align: right;\n",
       "    }\n",
       "</style>\n",
       "<table border=\"1\" class=\"dataframe\">\n",
       "  <thead>\n",
       "    <tr style=\"text-align: right;\">\n",
       "      <th></th>\n",
       "      <th>Fixed_Method</th>\n",
       "      <th>Faulty Code</th>\n",
       "      <th>Fault Free Code</th>\n",
       "    </tr>\n",
       "  </thead>\n",
       "  <tbody>\n",
       "    <tr>\n",
       "      <th>0</th>\n",
       "      <td>_make_sqlite_account_info(self, env=None, last...</td>\n",
       "      <td>def _make_sqlite_account_info(self, env=None, ...</td>\n",
       "      <td>def _make_sqlite_account_info(self, env=None, ...</td>\n",
       "    </tr>\n",
       "    <tr>\n",
       "      <th>1</th>\n",
       "      <td>def _validate_source(source, req)</td>\n",
       "      <td>def _validate_source(source, req):\\n\\t\\tif sou...</td>\n",
       "      <td>def _validate_source(source, req):\\n\\t\\tif sou...</td>\n",
       "    </tr>\n",
       "    <tr>\n",
       "      <th>2</th>\n",
       "      <td>def _single_run(self, application, sock)</td>\n",
       "      <td>def _single_run(self, application, sock):\\n\\t\\...</td>\n",
       "      <td>def _single_run(self, application, sock):\\n\\t\\...</td>\n",
       "    </tr>\n",
       "    <tr>\n",
       "      <th>3</th>\n",
       "      <td>def get_api_response_ext(self, http_resp, url=...</td>\n",
       "      <td>def get_api_response_ext(self, http_resp, url=...</td>\n",
       "      <td>def get_api_response_ext(self, http_resp, url=...</td>\n",
       "    </tr>\n",
       "    <tr>\n",
       "      <th>4</th>\n",
       "      <td>def delete(self)</td>\n",
       "      <td>def delete(self):\\n\\t\\tself._run_command(\"dele...</td>\n",
       "      <td>def delete(self):\\n\\t\\tself._run_command([\"del...</td>\n",
       "    </tr>\n",
       "    <tr>\n",
       "      <th>5</th>\n",
       "      <td>def run_server(self)</td>\n",
       "      <td>def run_server(self):\\n\\t\\tif cfg.CONF.pydev_w...</td>\n",
       "      <td>def run_server(self):\\n\\t\\tif cfg.CONF.pydev_w...</td>\n",
       "    </tr>\n",
       "    <tr>\n",
       "      <th>6</th>\n",
       "      <td>def parse_uri(self, uri)</td>\n",
       "      <td>def parse_uri(self, uri):\\n\\t\\tif not uri.star...</td>\n",
       "      <td>def parse_uri(self, uri):\\n\\t\\tvalid_schema = ...</td>\n",
       "    </tr>\n",
       "    <tr>\n",
       "      <th>7</th>\n",
       "      <td>def execute(self, file_path, **kwargs)</td>\n",
       "      <td>def execute(self, file_path, **kwargs):\\n\\t\\tt...</td>\n",
       "      <td>def execute(self, file_path, **kwargs):\\n\\t\\tt...</td>\n",
       "    </tr>\n",
       "    <tr>\n",
       "      <th>8</th>\n",
       "      <td>def set_acls(self, location, public=False, rea...</td>\n",
       "      <td>def set_acls(self, location, public=False, rea...</td>\n",
       "      <td>def set_acls(self, location, public=False, rea...</td>\n",
       "    </tr>\n",
       "    <tr>\n",
       "      <th>9</th>\n",
       "      <td>def _run_command(self, command, data, *params)</td>\n",
       "      <td>def _run_command(self, command, data, *params)...</td>\n",
       "      <td>def _run_command(self, command, data, *params)...</td>\n",
       "    </tr>\n",
       "  </tbody>\n",
       "</table>\n",
       "</div>"
      ],
      "text/plain": [
       "                                        Fixed_Method  \\\n",
       "0  _make_sqlite_account_info(self, env=None, last...   \n",
       "1                  def _validate_source(source, req)   \n",
       "2           def _single_run(self, application, sock)   \n",
       "3  def get_api_response_ext(self, http_resp, url=...   \n",
       "4                                   def delete(self)   \n",
       "5                               def run_server(self)   \n",
       "6                           def parse_uri(self, uri)   \n",
       "7             def execute(self, file_path, **kwargs)   \n",
       "8  def set_acls(self, location, public=False, rea...   \n",
       "9     def _run_command(self, command, data, *params)   \n",
       "\n",
       "                                         Faulty Code  \\\n",
       "0  def _make_sqlite_account_info(self, env=None, ...   \n",
       "1  def _validate_source(source, req):\\n\\t\\tif sou...   \n",
       "2  def _single_run(self, application, sock):\\n\\t\\...   \n",
       "3  def get_api_response_ext(self, http_resp, url=...   \n",
       "4  def delete(self):\\n\\t\\tself._run_command(\"dele...   \n",
       "5  def run_server(self):\\n\\t\\tif cfg.CONF.pydev_w...   \n",
       "6  def parse_uri(self, uri):\\n\\t\\tif not uri.star...   \n",
       "7  def execute(self, file_path, **kwargs):\\n\\t\\tt...   \n",
       "8  def set_acls(self, location, public=False, rea...   \n",
       "9  def _run_command(self, command, data, *params)...   \n",
       "\n",
       "                                     Fault Free Code  \n",
       "0  def _make_sqlite_account_info(self, env=None, ...  \n",
       "1  def _validate_source(source, req):\\n\\t\\tif sou...  \n",
       "2  def _single_run(self, application, sock):\\n\\t\\...  \n",
       "3  def get_api_response_ext(self, http_resp, url=...  \n",
       "4  def delete(self):\\n\\t\\tself._run_command([\"del...  \n",
       "5  def run_server(self):\\n\\t\\tif cfg.CONF.pydev_w...  \n",
       "6  def parse_uri(self, uri):\\n\\t\\tvalid_schema = ...  \n",
       "7  def execute(self, file_path, **kwargs):\\n\\t\\tt...  \n",
       "8  def set_acls(self, location, public=False, rea...  \n",
       "9  def _run_command(self, command, data, *params)...  "
      ]
     },
     "execution_count": 2,
     "metadata": {},
     "output_type": "execute_result"
    }
   ],
   "source": [
    "# Load the dataset from the Excel file\n",
    "file_path = \"/home/odedh/SML-For-Debug/data/dataset/PyresBugs.xlsx\"  # Replace with the actual file path\n",
    "df = pd.read_excel(file_path)\n",
    "\n",
    "df = df[[\"Fixed_Method\", \"Faulty Code\", \"Fault Free Code\"]].dropna().reset_index(drop=True)\n",
    "df.head(10)"
   ]
  },
  {
   "cell_type": "code",
   "execution_count": 5,
   "id": "620919ba",
   "metadata": {},
   "outputs": [
    {
     "name": "stderr",
     "output_type": "stream",
     "text": [
      "100%|██████████| 5006/5006 [00:18<00:00, 269.20it/s]\n"
     ]
    }
   ],
   "source": [
    "save_interval = 50  # You can change this value as needed\n",
    "diff_df_records = []\n",
    "\n",
    "def unescape_python_code(code_str: str) -> str:\n",
    "    \"\"\"Safely convert escaped newlines into actual code lines.\"\"\"\n",
    "    try:\n",
    "        return ast.literal_eval(f\"'''{code_str}'''\")\n",
    "    except (SyntaxError, ValueError):\n",
    "        return None  # Return None so we can handle it explicitly later\n",
    "\n",
    "\n",
    "def git_style_diff(buggy_code: str, fixed_code: str, filename=\"function.py\") -> str:\n",
    "    with tempfile.TemporaryDirectory() as temp_dir:\n",
    "        file_a = f\"{temp_dir}/a/{filename}\"\n",
    "        file_b = f\"{temp_dir}/b/{filename}\"\n",
    "\n",
    "        # Write the buggy and fixed code to two files\n",
    "        for path, content in [(file_a, buggy_code), (file_b, fixed_code)]:\n",
    "            os.makedirs(os.path.dirname(path), exist_ok=True)\n",
    "            with open(path, \"w\") as f:\n",
    "                f.write(content)\n",
    "                \n",
    "        # Use git diff on the two files\n",
    "        cmd = [\"git\", \"diff\", \"--no-index\", \"--\", file_a, file_b]\n",
    "        result = subprocess.run(cmd, capture_output=True, text=True)\n",
    "        return result.stdout.strip()\n",
    "\n",
    "\n",
    "for i, row in tqdm(df.iterrows(), total=len(df)):\n",
    "    filename = row.get(\"Function Name\", \"function.py\")\n",
    "    function_key = row.get(\"Fixed_Method\", f\"entry_{i}\")\n",
    "\n",
    "    buggy_code = unescape_python_code(row.get(\"Faulty Code\", \"\"))\n",
    "    fixed_code = unescape_python_code(row.get(\"Fault Free Code\", \"\"))\n",
    "\n",
    "    # If parsing failed, skip and insert empty diff\n",
    "    if buggy_code is None or fixed_code is None:\n",
    "        diff_df_records.append({function_key: \"\"})\n",
    "        continue\n",
    "\n",
    "    try:\n",
    "        diff_text = git_style_diff(buggy_code, fixed_code, filename)\n",
    "        # Remove all preceding text before the \"@@\" symbol\n",
    "        diff_text = diff_text.split(\"@@\")[2] if \"@@\" in diff_text else diff_text\n",
    "        diff_df_records.append({function_key: diff_text})\n",
    "    except Exception as e:\n",
    "        print(f\"Failed diff at entry {i}: {e}\")\n",
    "        diff_df_records.append({function_key: \"\"})\n",
    "        continue\n",
    "\n",
    "    # Save interim results every N iterations\n",
    "    if (i + 1) % save_interval == 0:\n",
    "        with open(\"/home/odedh/SML-For-Debug/data/dataset2.0/diffs.json\", \"w\") as f:\n",
    "            json.dump(diff_df_records, f, indent=4)"
   ]
  },
  {
   "cell_type": "code",
   "execution_count": null,
   "id": "577a4a02",
   "metadata": {},
   "outputs": [],
   "source": []
  }
 ],
 "metadata": {
  "kernelspec": {
   "display_name": ".venv",
   "language": "python",
   "name": "python3"
  },
  "language_info": {
   "codemirror_mode": {
    "name": "ipython",
    "version": 3
   },
   "file_extension": ".py",
   "mimetype": "text/x-python",
   "name": "python",
   "nbconvert_exporter": "python",
   "pygments_lexer": "ipython3",
   "version": "3.10.12"
  }
 },
 "nbformat": 4,
 "nbformat_minor": 5
}
