{
 "cells": [
  {
   "cell_type": "code",
   "execution_count": 1,
   "id": "8d3e2c77",
   "metadata": {
    "execution": {
     "iopub.execute_input": "2025-08-03T14:53:21.503977Z",
     "iopub.status.busy": "2025-08-03T14:53:21.503057Z",
     "iopub.status.idle": "2025-08-03T14:53:21.506873Z",
     "shell.execute_reply": "2025-08-03T14:53:21.506358Z"
    },
    "papermill": {
     "duration": 0.00944,
     "end_time": "2025-08-03T14:53:21.508837",
     "exception": false,
     "start_time": "2025-08-03T14:53:21.499397",
     "status": "completed"
    },
    "tags": []
   },
   "outputs": [],
   "source": [
    "# !pip install trl"
   ]
  },
  {
   "cell_type": "code",
   "execution_count": 2,
   "id": "fa22a979",
   "metadata": {
    "execution": {
     "iopub.execute_input": "2025-08-03T14:53:21.519457Z",
     "iopub.status.busy": "2025-08-03T14:53:21.519287Z",
     "iopub.status.idle": "2025-08-03T14:53:25.205393Z",
     "shell.execute_reply": "2025-08-03T14:53:25.204486Z"
    },
    "papermill": {
     "duration": 3.693437,
     "end_time": "2025-08-03T14:53:25.207609",
     "exception": false,
     "start_time": "2025-08-03T14:53:21.514172",
     "status": "completed"
    },
    "tags": []
   },
   "outputs": [
    {
     "name": "stderr",
     "output_type": "stream",
     "text": [
      "/home/odedh/SML-For-Debug/.venv/lib/python3.10/site-packages/tqdm/auto.py:21: TqdmWarning: IProgress not found. Please update jupyter and ipywidgets. See https://ipywidgets.readthedocs.io/en/stable/user_install.html\n",
      "  from .autonotebook import tqdm as notebook_tqdm\n"
     ]
    }
   ],
   "source": [
    "from trl import SFTTrainer, SFTConfig\n",
    "from transformers import AutoModelForCausalLM\n",
    "from transformers import TrainerCallback\n",
    "from transformers import AutoTokenizer\n",
    "\n",
    "# import matplotlib.pyplot as plt\n",
    "# from IPython.display import display, clear_output\n",
    "from transformers import EarlyStoppingCallback\n",
    "\n",
    "from datasets import load_dataset\n",
    "import os\n",
    "\n",
    "os.environ[\"CUDA_VISIBLE_DEVICES\"] = \"0\"\n",
    "os.environ[\"PYTORCH_CUDA_ALLOC_CONF\"] = \"expandable_segments:True\""
   ]
  },
  {
   "cell_type": "code",
   "execution_count": 3,
   "id": "2bd47494",
   "metadata": {
    "execution": {
     "iopub.execute_input": "2025-08-03T14:53:25.221976Z",
     "iopub.status.busy": "2025-08-03T14:53:25.221578Z",
     "iopub.status.idle": "2025-08-03T14:53:25.225620Z",
     "shell.execute_reply": "2025-08-03T14:53:25.224910Z"
    },
    "papermill": {
     "duration": 0.012463,
     "end_time": "2025-08-03T14:53:25.227414",
     "exception": false,
     "start_time": "2025-08-03T14:53:25.214951",
     "status": "completed"
    },
    "tags": []
   },
   "outputs": [],
   "source": [
    "# IN_MODEL_NAME = \"Qwen3-0.6B\"\n",
    "VERSION = \"0.5\"\n",
    "IN_MODEL_NAME = \"Llama-3.2-1B-Instruct\"\n",
    "OUT_MODEL_NAME = f\"{IN_MODEL_NAME}_SFT_{VERSION}\"\n",
    "\n",
    "INPUT_MODEL_PATH = f\"/home/odedh/SML-For-Debug/models/pre_trained/{IN_MODEL_NAME}\"\n",
    "OUTPUT_MODEL_PATH = f\"/home/odedh/SML-For-Debug/models/trained/{OUT_MODEL_NAME}\""
   ]
  },
  {
   "cell_type": "code",
   "execution_count": 4,
   "id": "c0c5fdcd",
   "metadata": {
    "execution": {
     "iopub.execute_input": "2025-08-03T14:53:25.240299Z",
     "iopub.status.busy": "2025-08-03T14:53:25.240126Z",
     "iopub.status.idle": "2025-08-03T14:53:25.286218Z",
     "shell.execute_reply": "2025-08-03T14:53:25.285448Z"
    },
    "papermill": {
     "duration": 0.054535,
     "end_time": "2025-08-03T14:53:25.287989",
     "exception": false,
     "start_time": "2025-08-03T14:53:25.233454",
     "status": "completed"
    },
    "tags": []
   },
   "outputs": [],
   "source": [
    "dataset = load_dataset(\"/home/odedh/SML-For-Debug/data/dataset/\")"
   ]
  },
  {
   "cell_type": "code",
   "execution_count": 5,
   "id": "6499af67",
   "metadata": {
    "execution": {
     "iopub.execute_input": "2025-08-03T14:53:25.300418Z",
     "iopub.status.busy": "2025-08-03T14:53:25.300258Z",
     "iopub.status.idle": "2025-08-03T14:53:25.306342Z",
     "shell.execute_reply": "2025-08-03T14:53:25.305618Z"
    },
    "papermill": {
     "duration": 0.014515,
     "end_time": "2025-08-03T14:53:25.308433",
     "exception": false,
     "start_time": "2025-08-03T14:53:25.293918",
     "status": "completed"
    },
    "tags": []
   },
   "outputs": [
    {
     "data": {
      "text/plain": [
       "DatasetDict({\n",
       "    train: Dataset({\n",
       "        features: ['prompt', 'completion'],\n",
       "        num_rows: 9010\n",
       "    })\n",
       "    test: Dataset({\n",
       "        features: ['prompt', 'completion'],\n",
       "        num_rows: 1002\n",
       "    })\n",
       "})"
      ]
     },
     "execution_count": 5,
     "metadata": {},
     "output_type": "execute_result"
    }
   ],
   "source": [
    "dataset"
   ]
  },
  {
   "cell_type": "code",
   "execution_count": 6,
   "id": "fd09e772",
   "metadata": {
    "execution": {
     "iopub.execute_input": "2025-08-03T14:53:25.322410Z",
     "iopub.status.busy": "2025-08-03T14:53:25.322259Z",
     "iopub.status.idle": "2025-08-03T14:53:26.135776Z",
     "shell.execute_reply": "2025-08-03T14:53:26.134866Z"
    },
    "papermill": {
     "duration": 0.822863,
     "end_time": "2025-08-03T14:53:26.138229",
     "exception": false,
     "start_time": "2025-08-03T14:53:25.315366",
     "status": "completed"
    },
    "tags": []
   },
   "outputs": [],
   "source": [
    "# load the model\n",
    "model = AutoModelForCausalLM.from_pretrained(\n",
    "    INPUT_MODEL_PATH,\n",
    "    trust_remote_code=True,\n",
    ")\n",
    "\n",
    "# Load the tokenizer\n",
    "tokenizer = AutoTokenizer.from_pretrained(INPUT_MODEL_PATH)"
   ]
  },
  {
   "cell_type": "markdown",
   "id": "8997458c",
   "metadata": {
    "papermill": {
     "duration": 0.00622,
     "end_time": "2025-08-03T14:53:26.151769",
     "exception": false,
     "start_time": "2025-08-03T14:53:26.145549",
     "status": "completed"
    },
    "tags": []
   },
   "source": [
    "---\n",
    "Adding new classification tokens   \n",
    "\n",
    "\n",
    "---"
   ]
  },
  {
   "cell_type": "code",
   "execution_count": 7,
   "id": "e522c706",
   "metadata": {
    "execution": {
     "iopub.execute_input": "2025-08-03T14:53:26.165787Z",
     "iopub.status.busy": "2025-08-03T14:53:26.165591Z",
     "iopub.status.idle": "2025-08-03T14:53:28.311572Z",
     "shell.execute_reply": "2025-08-03T14:53:28.311020Z"
    },
    "papermill": {
     "duration": 2.155865,
     "end_time": "2025-08-03T14:53:28.314308",
     "exception": false,
     "start_time": "2025-08-03T14:53:26.158443",
     "status": "completed"
    },
    "tags": []
   },
   "outputs": [
    {
     "name": "stderr",
     "output_type": "stream",
     "text": [
      "The new embeddings will be initialized from a multivariate normal distribution that has old embeddings' mean and covariance. As described in this article: https://nlp.stanford.edu/~johnhew/vocab-expansion.html. To disable this, use `mean_resizing=False`\n"
     ]
    },
    {
     "data": {
      "text/plain": [
       "('/home/odedh/SML-For-Debug/models/trained/Llama-3.2-1B-Instruct_SFT_0.5/tokenizer/tokenizer_config.json',\n",
       " '/home/odedh/SML-For-Debug/models/trained/Llama-3.2-1B-Instruct_SFT_0.5/tokenizer/special_tokens_map.json',\n",
       " '/home/odedh/SML-For-Debug/models/trained/Llama-3.2-1B-Instruct_SFT_0.5/tokenizer/chat_template.jinja',\n",
       " '/home/odedh/SML-For-Debug/models/trained/Llama-3.2-1B-Instruct_SFT_0.5/tokenizer/tokenizer.json')"
      ]
     },
     "execution_count": 7,
     "metadata": {},
     "output_type": "execute_result"
    }
   ],
   "source": [
    "specials = [\"<BUG_TRUE>\", \"<BUG_FALSE>\"]       # pick any unique strings\n",
    "tokenizer.add_special_tokens({\"additional_special_tokens\": specials})\n",
    "model.resize_token_embeddings(len(tokenizer))  # must be done after adding tokens\n",
    "tokenizer.save_pretrained(f\"{OUTPUT_MODEL_PATH}/tokenizer\")  # save tokenizer"
   ]
  },
  {
   "cell_type": "code",
   "execution_count": 8,
   "id": "5a1a5c9d",
   "metadata": {
    "execution": {
     "iopub.execute_input": "2025-08-03T14:53:28.330415Z",
     "iopub.status.busy": "2025-08-03T14:53:28.330219Z",
     "iopub.status.idle": "2025-08-03T14:53:28.333713Z",
     "shell.execute_reply": "2025-08-03T14:53:28.333254Z"
    },
    "papermill": {
     "duration": 0.013945,
     "end_time": "2025-08-03T14:53:28.336192",
     "exception": false,
     "start_time": "2025-08-03T14:53:28.322247",
     "status": "completed"
    },
    "tags": []
   },
   "outputs": [
    {
     "name": "stdout",
     "output_type": "stream",
     "text": [
      "Token: <BUG_TRUE>, ID: 128256\n",
      "Token: <BUG_FALSE>, ID: 128257\n"
     ]
    }
   ],
   "source": [
    "for token in specials:\n",
    "    print(f\"Token: {token}, ID: {tokenizer.convert_tokens_to_ids(token)}\")"
   ]
  },
  {
   "cell_type": "code",
   "execution_count": 9,
   "id": "3cb8cb28",
   "metadata": {
    "execution": {
     "iopub.execute_input": "2025-08-03T14:53:28.351351Z",
     "iopub.status.busy": "2025-08-03T14:53:28.351185Z",
     "iopub.status.idle": "2025-08-03T14:53:28.356540Z",
     "shell.execute_reply": "2025-08-03T14:53:28.356096Z"
    },
    "papermill": {
     "duration": 0.016082,
     "end_time": "2025-08-03T14:53:28.359597",
     "exception": false,
     "start_time": "2025-08-03T14:53:28.343515",
     "status": "completed"
    },
    "tags": []
   },
   "outputs": [
    {
     "name": "stdout",
     "output_type": "stream",
     "text": [
      "Total trainable parameters before freezing: 1235.818496 M\n",
      "Freezing bottom 8/16 layers (50%).\n",
      "Finished freezing. Total trainable params: 486.6M\n"
     ]
    }
   ],
   "source": [
    "def freeze_bottom_layers(model, freeze_ratio: float = 0.5):\n",
    "    \"\"\"\n",
    "    Freezes the bottom fraction of transformer layers.\n",
    "    For LLaMA-like models (model.model.layers structure).\n",
    "    \n",
    "    Args:\n",
    "        model: Huggingface AutoModelForCausalLM\n",
    "        freeze_ratio: Fraction of layers to freeze from the bottom (0.5 = freeze lower 50%)\n",
    "    \"\"\"\n",
    "    print(\"Total trainable parameters before freezing:\",\n",
    "          sum(p.numel() for p in model.parameters() if p.requires_grad)/1e6, \"M\")\n",
    "    # Get all transformer blocks\n",
    "    layers = model.model.layers\n",
    "    total_layers = len(layers)\n",
    "    num_to_freeze = int(total_layers * freeze_ratio)\n",
    "\n",
    "    print(f\"Freezing bottom {num_to_freeze}/{total_layers} layers ({freeze_ratio*100:.0f}%).\")\n",
    "\n",
    "    # Freeze selected layers\n",
    "    for idx, layer in enumerate(layers):\n",
    "        if idx < num_to_freeze:\n",
    "            for param in layer.parameters():\n",
    "                param.requires_grad = False\n",
    "\n",
    "    # Freeze embeddings too (recommended)\n",
    "    for param in model.model.embed_tokens.parameters():\n",
    "        param.requires_grad = False\n",
    "\n",
    "    # Always keep lm_head trainable\n",
    "    print(f\"Finished freezing. Total trainable params: {sum(p.numel() for p in model.parameters() if p.requires_grad)/1e6:.1f}M\")\n",
    "\n",
    "freeze_bottom_layers(model, freeze_ratio=0.5)\n"
   ]
  },
  {
   "cell_type": "code",
   "execution_count": 10,
   "id": "bfc2b3ff",
   "metadata": {
    "execution": {
     "iopub.execute_input": "2025-08-03T14:53:28.374373Z",
     "iopub.status.busy": "2025-08-03T14:53:28.374210Z",
     "iopub.status.idle": "2025-08-03T14:53:30.137163Z",
     "shell.execute_reply": "2025-08-03T14:53:30.136232Z"
    },
    "papermill": {
     "duration": 1.771951,
     "end_time": "2025-08-03T14:53:30.139193",
     "exception": false,
     "start_time": "2025-08-03T14:53:28.367242",
     "status": "completed"
    },
    "tags": []
   },
   "outputs": [],
   "source": [
    "max_steps = 10_000\n",
    "\n",
    "training_args = SFTConfig(\n",
    "    output_dir = OUTPUT_MODEL_PATH,\n",
    "    per_device_train_batch_size = 8,\n",
    "    per_device_eval_batch_size = 8,\n",
    "    learning_rate = 1e-05,\n",
    "    gradient_accumulation_steps = 2,\n",
    "    max_steps = max_steps,\n",
    "    warmup_steps=max_steps // 10, # 10% of max_steps\n",
    "    # num_train_epochs = 10,\n",
    "    \n",
    "    logging_strategy = \"steps\",\n",
    "    logging_steps = 50,\n",
    "    save_strategy = \"steps\",\n",
    "    save_steps = 50,\n",
    "    eval_strategy = \"steps\",\n",
    "    eval_steps = 50,\n",
    "    bf16 = True,\n",
    "    data_seed=42,\n",
    "    gradient_checkpointing=False,\n",
    "    report_to = \"none\",\n",
    "    load_best_model_at_end= True,\n",
    "    metric_for_best_model= \"eval_loss\",\n",
    "    max_grad_norm=1.0,\n",
    "    save_total_limit=3,\n",
    "    optim=\"adamw_torch\",\n",
    "    lr_scheduler_type=\"linear\",\n",
    "    \n",
    "    weight_decay=0.05,\n",
    ")\n",
    "\n",
    "\n",
    "trainer = SFTTrainer(\n",
    "    model=model,\n",
    "    args=training_args,\n",
    "    train_dataset=dataset['train'],\n",
    "    eval_dataset=dataset['test'],\n",
    ")\n",
    "\n",
    "trainer.add_callback(EarlyStoppingCallback(\n",
    "    early_stopping_patience=12,     # stop after 10 evals with no loss improvement\n",
    "    early_stopping_threshold=0.0)\n",
    ")"
   ]
  },
  {
   "cell_type": "code",
   "execution_count": 11,
   "id": "64eaf895",
   "metadata": {
    "execution": {
     "iopub.execute_input": "2025-08-03T14:53:30.151450Z",
     "iopub.status.busy": "2025-08-03T14:53:30.151269Z",
     "iopub.status.idle": "2025-08-03T14:53:30.155579Z",
     "shell.execute_reply": "2025-08-03T14:53:30.154804Z"
    },
    "papermill": {
     "duration": 0.011325,
     "end_time": "2025-08-03T14:53:30.156777",
     "exception": false,
     "start_time": "2025-08-03T14:53:30.145452",
     "status": "completed"
    },
    "tags": []
   },
   "outputs": [],
   "source": [
    "class LRSchedulerLogger(TrainerCallback):\n",
    "    def on_step_end(self, args, state, control, **kwargs):\n",
    "        if state.global_step % 100 == 0:\n",
    "            current_lr = trainer.optimizer.param_groups[0]['lr']\n",
    "            print(f\"Step {state.global_step}: LR = {current_lr:.6e}\")\n",
    "\n",
    "\n",
    "trainer.add_callback(LRSchedulerLogger())"
   ]
  },
  {
   "cell_type": "code",
   "execution_count": 12,
   "id": "c193f634",
   "metadata": {
    "execution": {
     "iopub.execute_input": "2025-08-03T14:53:30.165916Z",
     "iopub.status.busy": "2025-08-03T14:53:30.165756Z",
     "iopub.status.idle": "2025-08-03T15:46:53.424024Z",
     "shell.execute_reply": "2025-08-03T15:46:53.423170Z"
    },
    "papermill": {
     "duration": 3203.265276,
     "end_time": "2025-08-03T15:46:53.426272",
     "exception": false,
     "start_time": "2025-08-03T14:53:30.160996",
     "status": "completed"
    },
    "tags": []
   },
   "outputs": [
    {
     "data": {
      "text/html": [
       "\n",
       "    <div>\n",
       "      \n",
       "      <progress value='1650' max='10000' style='width:300px; height:20px; vertical-align: middle;'></progress>\n",
       "      [ 1650/10000 53:21 < 4:30:22, 0.51 it/s, Epoch 2/18]\n",
       "    </div>\n",
       "    <table border=\"1\" class=\"dataframe\">\n",
       "  <thead>\n",
       " <tr style=\"text-align: left;\">\n",
       "      <th>Step</th>\n",
       "      <th>Training Loss</th>\n",
       "      <th>Validation Loss</th>\n",
       "    </tr>\n",
       "  </thead>\n",
       "  <tbody>\n",
       "    <tr>\n",
       "      <td>50</td>\n",
       "      <td>0.600700</td>\n",
       "      <td>0.414303</td>\n",
       "    </tr>\n",
       "    <tr>\n",
       "      <td>100</td>\n",
       "      <td>0.257800</td>\n",
       "      <td>0.208745</td>\n",
       "    </tr>\n",
       "    <tr>\n",
       "      <td>150</td>\n",
       "      <td>0.200600</td>\n",
       "      <td>0.190529</td>\n",
       "    </tr>\n",
       "    <tr>\n",
       "      <td>200</td>\n",
       "      <td>0.190000</td>\n",
       "      <td>0.179061</td>\n",
       "    </tr>\n",
       "    <tr>\n",
       "      <td>250</td>\n",
       "      <td>0.179500</td>\n",
       "      <td>0.173577</td>\n",
       "    </tr>\n",
       "    <tr>\n",
       "      <td>300</td>\n",
       "      <td>0.170200</td>\n",
       "      <td>0.166596</td>\n",
       "    </tr>\n",
       "    <tr>\n",
       "      <td>350</td>\n",
       "      <td>0.169400</td>\n",
       "      <td>0.164870</td>\n",
       "    </tr>\n",
       "    <tr>\n",
       "      <td>400</td>\n",
       "      <td>0.170500</td>\n",
       "      <td>0.161798</td>\n",
       "    </tr>\n",
       "    <tr>\n",
       "      <td>450</td>\n",
       "      <td>0.156000</td>\n",
       "      <td>0.158190</td>\n",
       "    </tr>\n",
       "    <tr>\n",
       "      <td>500</td>\n",
       "      <td>0.164800</td>\n",
       "      <td>0.156441</td>\n",
       "    </tr>\n",
       "    <tr>\n",
       "      <td>550</td>\n",
       "      <td>0.173300</td>\n",
       "      <td>0.154026</td>\n",
       "    </tr>\n",
       "    <tr>\n",
       "      <td>600</td>\n",
       "      <td>0.138200</td>\n",
       "      <td>0.154992</td>\n",
       "    </tr>\n",
       "    <tr>\n",
       "      <td>650</td>\n",
       "      <td>0.120500</td>\n",
       "      <td>0.154030</td>\n",
       "    </tr>\n",
       "    <tr>\n",
       "      <td>700</td>\n",
       "      <td>0.125700</td>\n",
       "      <td>0.153055</td>\n",
       "    </tr>\n",
       "    <tr>\n",
       "      <td>750</td>\n",
       "      <td>0.111000</td>\n",
       "      <td>0.154970</td>\n",
       "    </tr>\n",
       "    <tr>\n",
       "      <td>800</td>\n",
       "      <td>0.121300</td>\n",
       "      <td>0.152259</td>\n",
       "    </tr>\n",
       "    <tr>\n",
       "      <td>850</td>\n",
       "      <td>0.110700</td>\n",
       "      <td>0.153866</td>\n",
       "    </tr>\n",
       "    <tr>\n",
       "      <td>900</td>\n",
       "      <td>0.127200</td>\n",
       "      <td>0.151466</td>\n",
       "    </tr>\n",
       "    <tr>\n",
       "      <td>950</td>\n",
       "      <td>0.126300</td>\n",
       "      <td>0.150625</td>\n",
       "    </tr>\n",
       "    <tr>\n",
       "      <td>1000</td>\n",
       "      <td>0.123600</td>\n",
       "      <td>0.150479</td>\n",
       "    </tr>\n",
       "    <tr>\n",
       "      <td>1050</td>\n",
       "      <td>0.130800</td>\n",
       "      <td>0.147544</td>\n",
       "    </tr>\n",
       "    <tr>\n",
       "      <td>1100</td>\n",
       "      <td>0.123400</td>\n",
       "      <td>0.150008</td>\n",
       "    </tr>\n",
       "    <tr>\n",
       "      <td>1150</td>\n",
       "      <td>0.108600</td>\n",
       "      <td>0.158387</td>\n",
       "    </tr>\n",
       "    <tr>\n",
       "      <td>1200</td>\n",
       "      <td>0.056300</td>\n",
       "      <td>0.161730</td>\n",
       "    </tr>\n",
       "    <tr>\n",
       "      <td>1250</td>\n",
       "      <td>0.062100</td>\n",
       "      <td>0.158248</td>\n",
       "    </tr>\n",
       "    <tr>\n",
       "      <td>1300</td>\n",
       "      <td>0.064900</td>\n",
       "      <td>0.162118</td>\n",
       "    </tr>\n",
       "    <tr>\n",
       "      <td>1350</td>\n",
       "      <td>0.067200</td>\n",
       "      <td>0.157347</td>\n",
       "    </tr>\n",
       "    <tr>\n",
       "      <td>1400</td>\n",
       "      <td>0.060700</td>\n",
       "      <td>0.157878</td>\n",
       "    </tr>\n",
       "    <tr>\n",
       "      <td>1450</td>\n",
       "      <td>0.065300</td>\n",
       "      <td>0.157933</td>\n",
       "    </tr>\n",
       "    <tr>\n",
       "      <td>1500</td>\n",
       "      <td>0.061000</td>\n",
       "      <td>0.160447</td>\n",
       "    </tr>\n",
       "    <tr>\n",
       "      <td>1550</td>\n",
       "      <td>0.063600</td>\n",
       "      <td>0.156395</td>\n",
       "    </tr>\n",
       "    <tr>\n",
       "      <td>1600</td>\n",
       "      <td>0.055100</td>\n",
       "      <td>0.158869</td>\n",
       "    </tr>\n",
       "    <tr>\n",
       "      <td>1650</td>\n",
       "      <td>0.051700</td>\n",
       "      <td>0.159488</td>\n",
       "    </tr>\n",
       "  </tbody>\n",
       "</table><p>"
      ],
      "text/plain": [
       "<IPython.core.display.HTML object>"
      ]
     },
     "metadata": {},
     "output_type": "display_data"
    },
    {
     "name": "stdout",
     "output_type": "stream",
     "text": [
      "Step 100: LR = 1.000000e-06\n"
     ]
    },
    {
     "name": "stdout",
     "output_type": "stream",
     "text": [
      "Step 200: LR = 2.000000e-06\n"
     ]
    },
    {
     "name": "stdout",
     "output_type": "stream",
     "text": [
      "Step 300: LR = 3.000000e-06\n"
     ]
    },
    {
     "name": "stdout",
     "output_type": "stream",
     "text": [
      "Step 400: LR = 4.000000e-06\n"
     ]
    },
    {
     "name": "stdout",
     "output_type": "stream",
     "text": [
      "Step 500: LR = 5.000000e-06\n"
     ]
    },
    {
     "name": "stdout",
     "output_type": "stream",
     "text": [
      "Step 600: LR = 6.000000e-06\n"
     ]
    },
    {
     "name": "stdout",
     "output_type": "stream",
     "text": [
      "Step 700: LR = 7.000000e-06\n"
     ]
    },
    {
     "name": "stdout",
     "output_type": "stream",
     "text": [
      "Step 800: LR = 8.000000e-06\n"
     ]
    },
    {
     "name": "stdout",
     "output_type": "stream",
     "text": [
      "Step 900: LR = 9.000000e-06\n"
     ]
    },
    {
     "name": "stdout",
     "output_type": "stream",
     "text": [
      "Step 1000: LR = 1.000000e-05\n"
     ]
    },
    {
     "name": "stdout",
     "output_type": "stream",
     "text": [
      "Step 1100: LR = 9.888889e-06\n"
     ]
    },
    {
     "name": "stdout",
     "output_type": "stream",
     "text": [
      "Step 1200: LR = 9.777778e-06\n"
     ]
    },
    {
     "name": "stdout",
     "output_type": "stream",
     "text": [
      "Step 1300: LR = 9.666667e-06\n"
     ]
    },
    {
     "name": "stdout",
     "output_type": "stream",
     "text": [
      "Step 1400: LR = 9.555556e-06\n"
     ]
    },
    {
     "name": "stdout",
     "output_type": "stream",
     "text": [
      "Step 1500: LR = 9.444444e-06\n"
     ]
    },
    {
     "name": "stdout",
     "output_type": "stream",
     "text": [
      "Step 1600: LR = 9.333333e-06\n"
     ]
    },
    {
     "name": "stderr",
     "output_type": "stream",
     "text": [
      "There were missing keys in the checkpoint model loaded: ['lm_head.weight'].\n"
     ]
    },
    {
     "data": {
      "text/plain": [
       "TrainOutput(global_step=1650, training_loss=0.13660358154412472, metrics={'train_runtime': 3203.0972, 'train_samples_per_second': 49.952, 'train_steps_per_second': 3.122, 'total_flos': 1.57626688325419e+17, 'train_loss': 0.13660358154412472})"
      ]
     },
     "execution_count": 12,
     "metadata": {},
     "output_type": "execute_result"
    }
   ],
   "source": [
    "trainer.train()"
   ]
  }
 ],
 "metadata": {
  "kernelspec": {
   "display_name": ".venv",
   "language": "python",
   "name": "python3"
  },
  "language_info": {
   "codemirror_mode": {
    "name": "ipython",
    "version": 3
   },
   "file_extension": ".py",
   "mimetype": "text/x-python",
   "name": "python",
   "nbconvert_exporter": "python",
   "pygments_lexer": "ipython3",
   "version": "3.10.12"
  },
  "papermill": {
   "default_parameters": {},
   "duration": 3214.065607,
   "end_time": "2025-08-03T15:46:54.759612",
   "environment_variables": {},
   "exception": null,
   "input_path": "sft_train.ipynb",
   "output_path": "sft_train_executed_0.5.ipynb",
   "parameters": {},
   "start_time": "2025-08-03T14:53:20.694005",
   "version": "2.6.0"
  }
 },
 "nbformat": 4,
 "nbformat_minor": 5
}