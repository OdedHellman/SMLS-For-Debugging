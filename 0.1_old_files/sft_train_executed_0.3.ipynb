{
 "cells": [
  {
   "cell_type": "code",
   "execution_count": 1,
   "id": "8d3e2c77",
   "metadata": {
    "execution": {
     "iopub.execute_input": "2025-08-02T21:21:28.499973Z",
     "iopub.status.busy": "2025-08-02T21:21:28.499566Z",
     "iopub.status.idle": "2025-08-02T21:21:28.502771Z",
     "shell.execute_reply": "2025-08-02T21:21:28.502037Z"
    },
    "papermill": {
     "duration": 0.006545,
     "end_time": "2025-08-02T21:21:28.503525",
     "exception": false,
     "start_time": "2025-08-02T21:21:28.496980",
     "status": "completed"
    },
    "tags": []
   },
   "outputs": [],
   "source": [
    "# !pip install trl"
   ]
  },
  {
   "cell_type": "code",
   "execution_count": 2,
   "id": "fa22a979",
   "metadata": {
    "execution": {
     "iopub.execute_input": "2025-08-02T21:21:28.507295Z",
     "iopub.status.busy": "2025-08-02T21:21:28.507138Z",
     "iopub.status.idle": "2025-08-02T21:21:32.163650Z",
     "shell.execute_reply": "2025-08-02T21:21:32.163111Z"
    },
    "papermill": {
     "duration": 3.659589,
     "end_time": "2025-08-02T21:21:32.164819",
     "exception": false,
     "start_time": "2025-08-02T21:21:28.505230",
     "status": "completed"
    },
    "tags": []
   },
   "outputs": [
    {
     "name": "stderr",
     "output_type": "stream",
     "text": [
      "/home/odedh/SML-For-Debug/.venv/lib/python3.10/site-packages/tqdm/auto.py:21: TqdmWarning: IProgress not found. Please update jupyter and ipywidgets. See https://ipywidgets.readthedocs.io/en/stable/user_install.html\n",
      "  from .autonotebook import tqdm as notebook_tqdm\n"
     ]
    }
   ],
   "source": [
    "from trl import SFTTrainer, SFTConfig\n",
    "from transformers import AutoModelForCausalLM\n",
    "from transformers import TrainerCallback\n",
    "# import matplotlib.pyplot as plt\n",
    "# from IPython.display import display, clear_output\n",
    "from transformers import EarlyStoppingCallback\n",
    "\n",
    "from datasets import load_dataset\n",
    "import os\n",
    "\n",
    "os.environ[\"CUDA_VISIBLE_DEVICES\"] = \"7\"\n",
    "os.environ[\"PYTORCH_CUDA_ALLOC_CONF\"] = \"expandable_segments:True\""
   ]
  },
  {
   "cell_type": "code",
   "execution_count": 3,
   "id": "2bd47494",
   "metadata": {
    "execution": {
     "iopub.execute_input": "2025-08-02T21:21:32.169617Z",
     "iopub.status.busy": "2025-08-02T21:21:32.169332Z",
     "iopub.status.idle": "2025-08-02T21:21:32.173245Z",
     "shell.execute_reply": "2025-08-02T21:21:32.172522Z"
    },
    "papermill": {
     "duration": 0.00676,
     "end_time": "2025-08-02T21:21:32.173964",
     "exception": false,
     "start_time": "2025-08-02T21:21:32.167204",
     "status": "completed"
    },
    "tags": []
   },
   "outputs": [],
   "source": [
    "# IN_MODEL_NAME = \"Qwen3-0.6B\"\n",
    "VERSION = \"0.3\"\n",
    "IN_MODEL_NAME = \"Llama-3.2-1B-Instruct\"\n",
    "OUT_MODEL_NAME = f\"{IN_MODEL_NAME}_SFT_{VERSION}\"\n",
    "\n",
    "INPUT_MODEL_PATH = f\"/home/odedh/SML-For-Debug/models/pre_trained/{IN_MODEL_NAME}\"\n",
    "OUTPUT_MODEL_PATH = f\"/home/odedh/SML-For-Debug/models/trained/{OUT_MODEL_NAME}\""
   ]
  },
  {
   "cell_type": "code",
   "execution_count": 4,
   "id": "c0c5fdcd",
   "metadata": {
    "execution": {
     "iopub.execute_input": "2025-08-02T21:21:32.177527Z",
     "iopub.status.busy": "2025-08-02T21:21:32.177384Z",
     "iopub.status.idle": "2025-08-02T21:21:32.222117Z",
     "shell.execute_reply": "2025-08-02T21:21:32.221350Z"
    },
    "papermill": {
     "duration": 0.047306,
     "end_time": "2025-08-02T21:21:32.222822",
     "exception": false,
     "start_time": "2025-08-02T21:21:32.175516",
     "status": "completed"
    },
    "tags": []
   },
   "outputs": [],
   "source": [
    "dataset = load_dataset(\"/home/odedh/SML-For-Debug/data/dataset/\")"
   ]
  },
  {
   "cell_type": "code",
   "execution_count": 5,
   "id": "6499af67",
   "metadata": {
    "execution": {
     "iopub.execute_input": "2025-08-02T21:21:32.226469Z",
     "iopub.status.busy": "2025-08-02T21:21:32.226322Z",
     "iopub.status.idle": "2025-08-02T21:21:32.232272Z",
     "shell.execute_reply": "2025-08-02T21:21:32.231591Z"
    },
    "papermill": {
     "duration": 0.008632,
     "end_time": "2025-08-02T21:21:32.232989",
     "exception": false,
     "start_time": "2025-08-02T21:21:32.224357",
     "status": "completed"
    },
    "tags": []
   },
   "outputs": [
    {
     "data": {
      "text/plain": [
       "DatasetDict({\n",
       "    train: Dataset({\n",
       "        features: ['prompt', 'completion'],\n",
       "        num_rows: 9010\n",
       "    })\n",
       "    test: Dataset({\n",
       "        features: ['prompt', 'completion'],\n",
       "        num_rows: 1002\n",
       "    })\n",
       "})"
      ]
     },
     "execution_count": 5,
     "metadata": {},
     "output_type": "execute_result"
    }
   ],
   "source": [
    "dataset"
   ]
  },
  {
   "cell_type": "code",
   "execution_count": 6,
   "id": "fd09e772",
   "metadata": {
    "execution": {
     "iopub.execute_input": "2025-08-02T21:21:32.236882Z",
     "iopub.status.busy": "2025-08-02T21:21:32.236731Z",
     "iopub.status.idle": "2025-08-02T21:21:32.725137Z",
     "shell.execute_reply": "2025-08-02T21:21:32.724570Z"
    },
    "papermill": {
     "duration": 0.491478,
     "end_time": "2025-08-02T21:21:32.726099",
     "exception": false,
     "start_time": "2025-08-02T21:21:32.234621",
     "status": "completed"
    },
    "tags": []
   },
   "outputs": [],
   "source": [
    "# load the model\n",
    "model = AutoModelForCausalLM.from_pretrained(\n",
    "    INPUT_MODEL_PATH,\n",
    "    trust_remote_code=True,\n",
    ")"
   ]
  },
  {
   "cell_type": "code",
   "execution_count": 7,
   "id": "3cb8cb28",
   "metadata": {
    "execution": {
     "iopub.execute_input": "2025-08-02T21:21:32.730651Z",
     "iopub.status.busy": "2025-08-02T21:21:32.730438Z",
     "iopub.status.idle": "2025-08-02T21:21:32.733156Z",
     "shell.execute_reply": "2025-08-02T21:21:32.732673Z"
    },
    "papermill": {
     "duration": 0.005591,
     "end_time": "2025-08-02T21:21:32.733811",
     "exception": false,
     "start_time": "2025-08-02T21:21:32.728220",
     "status": "completed"
    },
    "tags": []
   },
   "outputs": [],
   "source": [
    "# def freeze_bottom_layers(model, freeze_ratio: float = 0.5):\n",
    "#     \"\"\"\n",
    "#     Freeze the lower `freeze_ratio` fraction of transformer layers.\n",
    "#     For Llama family (`model.model.layers`).\n",
    "#     \"\"\"\n",
    "#     # 1. Get the list of block modules\n",
    "#     blocks = model.model.layers      # Llama‑3 style\n",
    "#     total_layers = len(blocks)\n",
    "    \n",
    "#     # 2. Decide how many to freeze\n",
    "#     n_freeze = int(total_layers * freeze_ratio)\n",
    "#     print(f\"Freezing {n_freeze} / {total_layers} layers \"\n",
    "#           f\"({freeze_ratio:.0%} of the network).\")\n",
    "    \n",
    "#     # 3. Disable grads for selected layers\n",
    "#     for idx, layer in enumerate(blocks):\n",
    "#         if idx < n_freeze:\n",
    "#             for param in layer.parameters():\n",
    "#                 param.requires_grad = False\n",
    "    \n",
    "#     # 4. Always keep lm_head & final norm trainable\n",
    "#     return model\n",
    "\n",
    "# model = freeze_bottom_layers(model, freeze_ratio=0.5)  # lower half frozen"
   ]
  },
  {
   "cell_type": "code",
   "execution_count": 8,
   "id": "bfc2b3ff",
   "metadata": {
    "execution": {
     "iopub.execute_input": "2025-08-02T21:21:32.737940Z",
     "iopub.status.busy": "2025-08-02T21:21:32.737599Z",
     "iopub.status.idle": "2025-08-02T21:21:34.567466Z",
     "shell.execute_reply": "2025-08-02T21:21:34.566446Z"
    },
    "papermill": {
     "duration": 1.834011,
     "end_time": "2025-08-02T21:21:34.569513",
     "exception": false,
     "start_time": "2025-08-02T21:21:32.735502",
     "status": "completed"
    },
    "tags": []
   },
   "outputs": [],
   "source": [
    "max_steps = 5_000\n",
    "\n",
    "training_args = SFTConfig(\n",
    "    output_dir = OUTPUT_MODEL_PATH,\n",
    "    per_device_train_batch_size = 8,\n",
    "    per_device_eval_batch_size = 8,\n",
    "    learning_rate = 1e-05,\n",
    "    gradient_accumulation_steps = 2,\n",
    "    max_steps = max_steps,\n",
    "    warmup_steps=max_steps // 10, # 10% of max_steps\n",
    "    # num_train_epochs = 10,\n",
    "    \n",
    "    logging_strategy = \"steps\",\n",
    "    logging_steps = 50,\n",
    "    save_strategy = \"steps\",\n",
    "    save_steps = 50,\n",
    "    eval_strategy = \"steps\",\n",
    "    eval_steps = 50,\n",
    "    bf16 = True,\n",
    "    data_seed=42,\n",
    "    gradient_checkpointing=True,\n",
    "    report_to = \"none\",\n",
    "    load_best_model_at_end= True,\n",
    "    metric_for_best_model= \"eval_loss\",\n",
    "    max_grad_norm=1.0,\n",
    "    save_total_limit=3,\n",
    "    optim=\"adamw_torch\",\n",
    "    lr_scheduler_type=\"linear\",\n",
    "    \n",
    "    weight_decay=0.04,\n",
    ")\n",
    "\n",
    "\n",
    "trainer = SFTTrainer(\n",
    "    model=model,\n",
    "    args=training_args,\n",
    "    train_dataset=dataset['train'],\n",
    "    eval_dataset=dataset['test'],\n",
    ")\n",
    "\n",
    "trainer.add_callback(EarlyStoppingCallback(\n",
    "    early_stopping_patience=10,     # stop after 10 evals with no loss improvement\n",
    "    early_stopping_threshold=0.0)\n",
    ")"
   ]
  },
  {
   "cell_type": "code",
   "execution_count": 9,
   "id": "64eaf895",
   "metadata": {
    "execution": {
     "iopub.execute_input": "2025-08-02T21:21:34.583192Z",
     "iopub.status.busy": "2025-08-02T21:21:34.583007Z",
     "iopub.status.idle": "2025-08-02T21:21:34.587355Z",
     "shell.execute_reply": "2025-08-02T21:21:34.586595Z"
    },
    "papermill": {
     "duration": 0.01284,
     "end_time": "2025-08-02T21:21:34.589159",
     "exception": false,
     "start_time": "2025-08-02T21:21:34.576319",
     "status": "completed"
    },
    "tags": []
   },
   "outputs": [],
   "source": [
    "class LRSchedulerLogger(TrainerCallback):\n",
    "    def on_step_end(self, args, state, control, **kwargs):\n",
    "        if state.global_step % 100 == 0:\n",
    "            current_lr = trainer.optimizer.param_groups[0]['lr']\n",
    "            print(f\"Step {state.global_step}: LR = {current_lr:.6e}\")\n",
    "\n",
    "\n",
    "trainer.add_callback(LRSchedulerLogger())"
   ]
  },
  {
   "cell_type": "code",
   "execution_count": 10,
   "id": "c193f634",
   "metadata": {
    "execution": {
     "iopub.execute_input": "2025-08-02T21:21:34.601866Z",
     "iopub.status.busy": "2025-08-02T21:21:34.601715Z",
     "iopub.status.idle": "2025-08-02T22:35:46.989156Z",
     "shell.execute_reply": "2025-08-02T22:35:46.988303Z"
    },
    "papermill": {
     "duration": 4452.395132,
     "end_time": "2025-08-02T22:35:46.990348",
     "exception": false,
     "start_time": "2025-08-02T21:21:34.595216",
     "status": "completed"
    },
    "tags": []
   },
   "outputs": [
    {
     "name": "stderr",
     "output_type": "stream",
     "text": [
      "`use_cache=True` is incompatible with gradient checkpointing. Setting `use_cache=False`.\n"
     ]
    },
    {
     "data": {
      "text/html": [
       "\n",
       "    <div>\n",
       "      \n",
       "      <progress value='1550' max='5000' style='width:300px; height:20px; vertical-align: middle;'></progress>\n",
       "      [1550/5000 1:14:10 < 2:45:17, 0.35 it/s, Epoch 2/9]\n",
       "    </div>\n",
       "    <table border=\"1\" class=\"dataframe\">\n",
       "  <thead>\n",
       " <tr style=\"text-align: left;\">\n",
       "      <th>Step</th>\n",
       "      <th>Training Loss</th>\n",
       "      <th>Validation Loss</th>\n",
       "    </tr>\n",
       "  </thead>\n",
       "  <tbody>\n",
       "    <tr>\n",
       "      <td>50</td>\n",
       "      <td>0.352600</td>\n",
       "      <td>0.181785</td>\n",
       "    </tr>\n",
       "    <tr>\n",
       "      <td>100</td>\n",
       "      <td>0.155700</td>\n",
       "      <td>0.142900</td>\n",
       "    </tr>\n",
       "    <tr>\n",
       "      <td>150</td>\n",
       "      <td>0.148300</td>\n",
       "      <td>0.130300</td>\n",
       "    </tr>\n",
       "    <tr>\n",
       "      <td>200</td>\n",
       "      <td>0.140700</td>\n",
       "      <td>0.126588</td>\n",
       "    </tr>\n",
       "    <tr>\n",
       "      <td>250</td>\n",
       "      <td>0.135000</td>\n",
       "      <td>0.125657</td>\n",
       "    </tr>\n",
       "    <tr>\n",
       "      <td>300</td>\n",
       "      <td>0.121400</td>\n",
       "      <td>0.121831</td>\n",
       "    </tr>\n",
       "    <tr>\n",
       "      <td>350</td>\n",
       "      <td>0.131300</td>\n",
       "      <td>0.123198</td>\n",
       "    </tr>\n",
       "    <tr>\n",
       "      <td>400</td>\n",
       "      <td>0.124600</td>\n",
       "      <td>0.121852</td>\n",
       "    </tr>\n",
       "    <tr>\n",
       "      <td>450</td>\n",
       "      <td>0.122900</td>\n",
       "      <td>0.121838</td>\n",
       "    </tr>\n",
       "    <tr>\n",
       "      <td>500</td>\n",
       "      <td>0.128000</td>\n",
       "      <td>0.121921</td>\n",
       "    </tr>\n",
       "    <tr>\n",
       "      <td>550</td>\n",
       "      <td>0.134600</td>\n",
       "      <td>0.120240</td>\n",
       "    </tr>\n",
       "    <tr>\n",
       "      <td>600</td>\n",
       "      <td>0.099200</td>\n",
       "      <td>0.123078</td>\n",
       "    </tr>\n",
       "    <tr>\n",
       "      <td>650</td>\n",
       "      <td>0.078600</td>\n",
       "      <td>0.123125</td>\n",
       "    </tr>\n",
       "    <tr>\n",
       "      <td>700</td>\n",
       "      <td>0.084400</td>\n",
       "      <td>0.122393</td>\n",
       "    </tr>\n",
       "    <tr>\n",
       "      <td>750</td>\n",
       "      <td>0.071600</td>\n",
       "      <td>0.122364</td>\n",
       "    </tr>\n",
       "    <tr>\n",
       "      <td>800</td>\n",
       "      <td>0.075900</td>\n",
       "      <td>0.120132</td>\n",
       "    </tr>\n",
       "    <tr>\n",
       "      <td>850</td>\n",
       "      <td>0.073100</td>\n",
       "      <td>0.117710</td>\n",
       "    </tr>\n",
       "    <tr>\n",
       "      <td>900</td>\n",
       "      <td>0.085100</td>\n",
       "      <td>0.119782</td>\n",
       "    </tr>\n",
       "    <tr>\n",
       "      <td>950</td>\n",
       "      <td>0.085600</td>\n",
       "      <td>0.117853</td>\n",
       "    </tr>\n",
       "    <tr>\n",
       "      <td>1000</td>\n",
       "      <td>0.080200</td>\n",
       "      <td>0.117174</td>\n",
       "    </tr>\n",
       "    <tr>\n",
       "      <td>1050</td>\n",
       "      <td>0.089300</td>\n",
       "      <td>0.115103</td>\n",
       "    </tr>\n",
       "    <tr>\n",
       "      <td>1100</td>\n",
       "      <td>0.078900</td>\n",
       "      <td>0.115804</td>\n",
       "    </tr>\n",
       "    <tr>\n",
       "      <td>1150</td>\n",
       "      <td>0.068300</td>\n",
       "      <td>0.122570</td>\n",
       "    </tr>\n",
       "    <tr>\n",
       "      <td>1200</td>\n",
       "      <td>0.034500</td>\n",
       "      <td>0.126235</td>\n",
       "    </tr>\n",
       "    <tr>\n",
       "      <td>1250</td>\n",
       "      <td>0.037300</td>\n",
       "      <td>0.124564</td>\n",
       "    </tr>\n",
       "    <tr>\n",
       "      <td>1300</td>\n",
       "      <td>0.037200</td>\n",
       "      <td>0.127851</td>\n",
       "    </tr>\n",
       "    <tr>\n",
       "      <td>1350</td>\n",
       "      <td>0.042200</td>\n",
       "      <td>0.123303</td>\n",
       "    </tr>\n",
       "    <tr>\n",
       "      <td>1400</td>\n",
       "      <td>0.039200</td>\n",
       "      <td>0.123746</td>\n",
       "    </tr>\n",
       "    <tr>\n",
       "      <td>1450</td>\n",
       "      <td>0.042900</td>\n",
       "      <td>0.127856</td>\n",
       "    </tr>\n",
       "    <tr>\n",
       "      <td>1500</td>\n",
       "      <td>0.039800</td>\n",
       "      <td>0.126633</td>\n",
       "    </tr>\n",
       "    <tr>\n",
       "      <td>1550</td>\n",
       "      <td>0.038500</td>\n",
       "      <td>0.126547</td>\n",
       "    </tr>\n",
       "  </tbody>\n",
       "</table><p>"
      ],
      "text/plain": [
       "<IPython.core.display.HTML object>"
      ]
     },
     "metadata": {},
     "output_type": "display_data"
    },
    {
     "name": "stdout",
     "output_type": "stream",
     "text": [
      "Step 100: LR = 2.000000e-06\n"
     ]
    },
    {
     "name": "stdout",
     "output_type": "stream",
     "text": [
      "Step 200: LR = 4.000000e-06\n"
     ]
    },
    {
     "name": "stdout",
     "output_type": "stream",
     "text": [
      "Step 300: LR = 6.000000e-06\n"
     ]
    },
    {
     "name": "stdout",
     "output_type": "stream",
     "text": [
      "Step 400: LR = 8.000000e-06\n"
     ]
    },
    {
     "name": "stdout",
     "output_type": "stream",
     "text": [
      "Step 500: LR = 1.000000e-05\n"
     ]
    },
    {
     "name": "stdout",
     "output_type": "stream",
     "text": [
      "Step 600: LR = 9.777778e-06\n"
     ]
    },
    {
     "name": "stdout",
     "output_type": "stream",
     "text": [
      "Step 700: LR = 9.555556e-06\n"
     ]
    },
    {
     "name": "stdout",
     "output_type": "stream",
     "text": [
      "Step 800: LR = 9.333333e-06\n"
     ]
    },
    {
     "name": "stdout",
     "output_type": "stream",
     "text": [
      "Step 900: LR = 9.111111e-06\n"
     ]
    },
    {
     "name": "stdout",
     "output_type": "stream",
     "text": [
      "Step 1000: LR = 8.888889e-06\n"
     ]
    },
    {
     "name": "stdout",
     "output_type": "stream",
     "text": [
      "Step 1100: LR = 8.666667e-06\n"
     ]
    },
    {
     "name": "stdout",
     "output_type": "stream",
     "text": [
      "Step 1200: LR = 8.444444e-06\n"
     ]
    },
    {
     "name": "stdout",
     "output_type": "stream",
     "text": [
      "Step 1300: LR = 8.222222e-06\n"
     ]
    },
    {
     "name": "stdout",
     "output_type": "stream",
     "text": [
      "Step 1400: LR = 8.000000e-06\n"
     ]
    },
    {
     "name": "stdout",
     "output_type": "stream",
     "text": [
      "Step 1500: LR = 7.777778e-06\n"
     ]
    },
    {
     "name": "stderr",
     "output_type": "stream",
     "text": [
      "There were missing keys in the checkpoint model loaded: ['lm_head.weight'].\n"
     ]
    },
    {
     "data": {
      "text/plain": [
       "TrainOutput(global_step=1550, training_loss=0.0960299619551628, metrics={'train_runtime': 4452.2265, 'train_samples_per_second': 17.969, 'train_steps_per_second': 1.123, 'total_flos': 1.458017952892846e+17, 'train_loss': 0.0960299619551628})"
      ]
     },
     "execution_count": 10,
     "metadata": {},
     "output_type": "execute_result"
    }
   ],
   "source": [
    "trainer.train()"
   ]
  }
 ],
 "metadata": {
  "kernelspec": {
   "display_name": ".venv",
   "language": "python",
   "name": "python3"
  },
  "language_info": {
   "codemirror_mode": {
    "name": "ipython",
    "version": 3
   },
   "file_extension": ".py",
   "mimetype": "text/x-python",
   "name": "python",
   "nbconvert_exporter": "python",
   "pygments_lexer": "ipython3",
   "version": "3.10.12"
  },
  "papermill": {
   "default_parameters": {},
   "duration": 4460.595848,
   "end_time": "2025-08-02T22:35:48.389255",
   "environment_variables": {},
   "exception": null,
   "input_path": "sft_train.ipynb",
   "output_path": "sft_train_executed_0.3.ipynb",
   "parameters": {},
   "start_time": "2025-08-02T21:21:27.793407",
   "version": "2.6.0"
  }
 },
 "nbformat": 4,
 "nbformat_minor": 5
}