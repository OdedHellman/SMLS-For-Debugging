{
 "cells": [
  {
   "cell_type": "code",
   "execution_count": 1,
   "id": "8d3e2c77",
   "metadata": {
    "execution": {
     "iopub.execute_input": "2025-08-16T13:46:42.446389Z",
     "iopub.status.busy": "2025-08-16T13:46:42.446205Z",
     "iopub.status.idle": "2025-08-16T13:46:42.449976Z",
     "shell.execute_reply": "2025-08-16T13:46:42.449225Z"
    },
    "papermill": {
     "duration": 0.011243,
     "end_time": "2025-08-16T13:46:42.451359",
     "exception": false,
     "start_time": "2025-08-16T13:46:42.440116",
     "status": "completed"
    },
    "tags": []
   },
   "outputs": [],
   "source": [
    "# !pip install trl"
   ]
  },
  {
   "cell_type": "code",
   "execution_count": 2,
   "id": "fa22a979",
   "metadata": {
    "execution": {
     "iopub.execute_input": "2025-08-16T13:46:42.460897Z",
     "iopub.status.busy": "2025-08-16T13:46:42.460720Z",
     "iopub.status.idle": "2025-08-16T13:46:46.075035Z",
     "shell.execute_reply": "2025-08-16T13:46:46.074389Z"
    },
    "papermill": {
     "duration": 3.619901,
     "end_time": "2025-08-16T13:46:46.075998",
     "exception": false,
     "start_time": "2025-08-16T13:46:42.456097",
     "status": "completed"
    },
    "tags": []
   },
   "outputs": [
    {
     "name": "stderr",
     "output_type": "stream",
     "text": [
      "/home/odedh/SML-For-Debug/.venv/lib/python3.10/site-packages/tqdm/auto.py:21: TqdmWarning: IProgress not found. Please update jupyter and ipywidgets. See https://ipywidgets.readthedocs.io/en/stable/user_install.html\n",
      "  from .autonotebook import tqdm as notebook_tqdm\n"
     ]
    }
   ],
   "source": [
    "from trl import SFTTrainer, SFTConfig\n",
    "from transformers import AutoModelForCausalLM\n",
    "from transformers import TrainerCallback\n",
    "from transformers import AutoTokenizer\n",
    "\n",
    "# import matplotlib.pyplot as plt\n",
    "# from IPython.display import display, clear_output\n",
    "from transformers import EarlyStoppingCallback\n",
    "\n",
    "from datasets import load_dataset\n",
    "import os\n",
    "\n",
    "os.environ[\"CUDA_VISIBLE_DEVICES\"] = \"0\"\n",
    "os.environ[\"PYTORCH_CUDA_ALLOC_CONF\"] = \"expandable_segments:True\""
   ]
  },
  {
   "cell_type": "code",
   "execution_count": 3,
   "id": "2bd47494",
   "metadata": {
    "execution": {
     "iopub.execute_input": "2025-08-16T13:46:46.081002Z",
     "iopub.status.busy": "2025-08-16T13:46:46.080687Z",
     "iopub.status.idle": "2025-08-16T13:46:46.083898Z",
     "shell.execute_reply": "2025-08-16T13:46:46.083346Z"
    },
    "papermill": {
     "duration": 0.006235,
     "end_time": "2025-08-16T13:46:46.084644",
     "exception": false,
     "start_time": "2025-08-16T13:46:46.078409",
     "status": "completed"
    },
    "tags": []
   },
   "outputs": [],
   "source": [
    "# IN_MODEL_NAME = \"Qwen3-0.6B\"\n",
    "VERSION = \"0.5\"\n",
    "IN_MODEL_NAME = \"Llama-3.2-1B-Instruct\"\n",
    "OUT_MODEL_NAME = f\"{IN_MODEL_NAME}_SFT_{VERSION}\"\n",
    "\n",
    "INPUT_MODEL_PATH = f\"/home/odedh/SML-For-Debug/models/pre_trained/{IN_MODEL_NAME}\"\n",
    "OUTPUT_MODEL_PATH = f\"/home/odedh/SML-For-Debug/models/trained/{OUT_MODEL_NAME}\""
   ]
  },
  {
   "cell_type": "code",
   "execution_count": 4,
   "id": "c0c5fdcd",
   "metadata": {
    "execution": {
     "iopub.execute_input": "2025-08-16T13:46:46.088657Z",
     "iopub.status.busy": "2025-08-16T13:46:46.088499Z",
     "iopub.status.idle": "2025-08-16T13:46:46.132233Z",
     "shell.execute_reply": "2025-08-16T13:46:46.131685Z"
    },
    "papermill": {
     "duration": 0.046545,
     "end_time": "2025-08-16T13:46:46.132916",
     "exception": false,
     "start_time": "2025-08-16T13:46:46.086371",
     "status": "completed"
    },
    "tags": []
   },
   "outputs": [],
   "source": [
    "dataset = load_dataset(\"/home/odedh/SML-For-Debug/data/dataset/\")"
   ]
  },
  {
   "cell_type": "code",
   "execution_count": 5,
   "id": "6499af67",
   "metadata": {
    "execution": {
     "iopub.execute_input": "2025-08-16T13:46:46.136770Z",
     "iopub.status.busy": "2025-08-16T13:46:46.136620Z",
     "iopub.status.idle": "2025-08-16T13:46:46.141539Z",
     "shell.execute_reply": "2025-08-16T13:46:46.141058Z"
    },
    "papermill": {
     "duration": 0.007557,
     "end_time": "2025-08-16T13:46:46.142152",
     "exception": false,
     "start_time": "2025-08-16T13:46:46.134595",
     "status": "completed"
    },
    "tags": []
   },
   "outputs": [
    {
     "data": {
      "text/plain": [
       "DatasetDict({\n",
       "    train: Dataset({\n",
       "        features: ['prompt', 'completion'],\n",
       "        num_rows: 9010\n",
       "    })\n",
       "    test: Dataset({\n",
       "        features: ['prompt', 'completion'],\n",
       "        num_rows: 1002\n",
       "    })\n",
       "})"
      ]
     },
     "execution_count": 5,
     "metadata": {},
     "output_type": "execute_result"
    }
   ],
   "source": [
    "dataset"
   ]
  },
  {
   "cell_type": "code",
   "execution_count": 6,
   "id": "fd09e772",
   "metadata": {
    "execution": {
     "iopub.execute_input": "2025-08-16T13:46:46.146259Z",
     "iopub.status.busy": "2025-08-16T13:46:46.146108Z",
     "iopub.status.idle": "2025-08-16T13:46:46.918598Z",
     "shell.execute_reply": "2025-08-16T13:46:46.917900Z"
    },
    "papermill": {
     "duration": 0.775711,
     "end_time": "2025-08-16T13:46:46.919687",
     "exception": false,
     "start_time": "2025-08-16T13:46:46.143976",
     "status": "completed"
    },
    "tags": []
   },
   "outputs": [],
   "source": [
    "# load the model\n",
    "model = AutoModelForCausalLM.from_pretrained(\n",
    "    INPUT_MODEL_PATH,\n",
    "    trust_remote_code=True,\n",
    ")\n",
    "\n",
    "# Load the tokenizer\n",
    "tokenizer = AutoTokenizer.from_pretrained(INPUT_MODEL_PATH)"
   ]
  },
  {
   "cell_type": "markdown",
   "id": "8997458c",
   "metadata": {
    "papermill": {
     "duration": 0.001821,
     "end_time": "2025-08-16T13:46:46.924235",
     "exception": false,
     "start_time": "2025-08-16T13:46:46.922414",
     "status": "completed"
    },
    "tags": []
   },
   "source": [
    "---\n",
    "Adding new classification tokens   \n",
    "\n",
    "\n",
    "---"
   ]
  },
  {
   "cell_type": "code",
   "execution_count": 7,
   "id": "e522c706",
   "metadata": {
    "execution": {
     "iopub.execute_input": "2025-08-16T13:46:46.928674Z",
     "iopub.status.busy": "2025-08-16T13:46:46.928433Z",
     "iopub.status.idle": "2025-08-16T13:46:46.931127Z",
     "shell.execute_reply": "2025-08-16T13:46:46.930627Z"
    },
    "papermill": {
     "duration": 0.005763,
     "end_time": "2025-08-16T13:46:46.931801",
     "exception": false,
     "start_time": "2025-08-16T13:46:46.926038",
     "status": "completed"
    },
    "tags": []
   },
   "outputs": [],
   "source": [
    "# specials = [\"<BUG_TRUE>\", \"<BUG_FALSE>\"]       # pick any unique strings\n",
    "# tokenizer.add_special_tokens({\"additional_special_tokens\": specials})\n",
    "# model.resize_token_embeddings(len(tokenizer))  # must be done after adding tokens\n",
    "# tokenizer.save_pretrained(f\"{OUTPUT_MODEL_PATH}/tokenizer\")  # save tokenizer"
   ]
  },
  {
   "cell_type": "code",
   "execution_count": 8,
   "id": "5a1a5c9d",
   "metadata": {
    "execution": {
     "iopub.execute_input": "2025-08-16T13:46:46.936103Z",
     "iopub.status.busy": "2025-08-16T13:46:46.935957Z",
     "iopub.status.idle": "2025-08-16T13:46:46.938275Z",
     "shell.execute_reply": "2025-08-16T13:46:46.937793Z"
    },
    "papermill": {
     "duration": 0.005265,
     "end_time": "2025-08-16T13:46:46.938937",
     "exception": false,
     "start_time": "2025-08-16T13:46:46.933672",
     "status": "completed"
    },
    "tags": []
   },
   "outputs": [],
   "source": [
    "# for token in specials:\n",
    "#     print(f\"Token: {token}, ID: {tokenizer.convert_tokens_to_ids(token)}\")"
   ]
  },
  {
   "cell_type": "code",
   "execution_count": 9,
   "id": "3cb8cb28",
   "metadata": {
    "execution": {
     "iopub.execute_input": "2025-08-16T13:46:46.943209Z",
     "iopub.status.busy": "2025-08-16T13:46:46.943069Z",
     "iopub.status.idle": "2025-08-16T13:46:46.945789Z",
     "shell.execute_reply": "2025-08-16T13:46:46.945300Z"
    },
    "papermill": {
     "duration": 0.00564,
     "end_time": "2025-08-16T13:46:46.946460",
     "exception": false,
     "start_time": "2025-08-16T13:46:46.940820",
     "status": "completed"
    },
    "tags": []
   },
   "outputs": [],
   "source": [
    "# def freeze_bottom_layers(model, freeze_ratio: float = 0.5):\n",
    "#     \"\"\"\n",
    "#     Freezes the bottom fraction of transformer layers.\n",
    "#     For LLaMA-like models (model.model.layers structure).\n",
    "    \n",
    "#     Args:\n",
    "#         model: Huggingface AutoModelForCausalLM\n",
    "#         freeze_ratio: Fraction of layers to freeze from the bottom (0.5 = freeze lower 50%)\n",
    "#     \"\"\"\n",
    "#     print(\"Total trainable parameters before freezing:\",\n",
    "#           sum(p.numel() for p in model.parameters() if p.requires_grad)/1e6, \"M\")\n",
    "#     # Get all transformer blocks\n",
    "#     layers = model.model.layers\n",
    "#     total_layers = len(layers)\n",
    "#     num_to_freeze = int(total_layers * freeze_ratio)\n",
    "\n",
    "#     print(f\"Freezing bottom {num_to_freeze}/{total_layers} layers ({freeze_ratio*100:.0f}%).\")\n",
    "\n",
    "#     # Freeze selected layers\n",
    "#     for idx, layer in enumerate(layers):\n",
    "#         if idx < num_to_freeze:\n",
    "#             for param in layer.parameters():\n",
    "#                 param.requires_grad = False\n",
    "\n",
    "#     # Freeze embeddings too (recommended)\n",
    "#     for param in model.model.embed_tokens.parameters():\n",
    "#         param.requires_grad = False\n",
    "\n",
    "#     # Always keep lm_head trainable\n",
    "#     print(f\"Finished freezing. Total trainable params: {sum(p.numel() for p in model.parameters() if p.requires_grad)/1e6:.1f}M\")\n",
    "\n",
    "# freeze_bottom_layers(model, freeze_ratio=0.1)\n"
   ]
  },
  {
   "cell_type": "code",
   "execution_count": 10,
   "id": "bfc2b3ff",
   "metadata": {
    "execution": {
     "iopub.execute_input": "2025-08-16T13:46:46.950756Z",
     "iopub.status.busy": "2025-08-16T13:46:46.950618Z",
     "iopub.status.idle": "2025-08-16T13:46:48.711444Z",
     "shell.execute_reply": "2025-08-16T13:46:48.710453Z"
    },
    "papermill": {
     "duration": 1.764051,
     "end_time": "2025-08-16T13:46:48.712412",
     "exception": false,
     "start_time": "2025-08-16T13:46:46.948361",
     "status": "completed"
    },
    "tags": []
   },
   "outputs": [],
   "source": [
    "max_steps = 10_000\n",
    "\n",
    "training_args = SFTConfig(\n",
    "    output_dir = OUTPUT_MODEL_PATH,\n",
    "    per_device_train_batch_size = 6,\n",
    "    per_device_eval_batch_size = 6,\n",
    "    learning_rate = 1e-05,\n",
    "    gradient_accumulation_steps = 2,\n",
    "    max_steps = max_steps,\n",
    "    warmup_steps=max_steps // 10, # 10% of max_steps\n",
    "    # num_train_epochs = 10,\n",
    "    \n",
    "    logging_strategy = \"steps\",\n",
    "    logging_steps = 50,\n",
    "    save_strategy = \"steps\",\n",
    "    save_steps = 50,\n",
    "    eval_strategy = \"steps\",\n",
    "    eval_steps = 50,\n",
    "    bf16 = True,\n",
    "    data_seed=42,\n",
    "    gradient_checkpointing=False,\n",
    "    report_to = \"none\",\n",
    "    load_best_model_at_end= True,\n",
    "    metric_for_best_model= \"eval_loss\",\n",
    "    max_grad_norm=1.0,\n",
    "    save_total_limit=3,\n",
    "    optim=\"adamw_torch\",\n",
    "    lr_scheduler_type=\"cosine_with_restarts\",\n",
    "    \n",
    "    weight_decay=0.05,\n",
    ")\n",
    "\n",
    "\n",
    "trainer = SFTTrainer(\n",
    "    model=model,\n",
    "    args=training_args,\n",
    "    train_dataset=dataset['train'],\n",
    "    eval_dataset=dataset['test'],\n",
    ")\n",
    "\n",
    "trainer.add_callback(EarlyStoppingCallback(\n",
    "    early_stopping_patience=8,     # stop after 8 evals with no loss improvement\n",
    "    early_stopping_threshold=0.0)\n",
    ")"
   ]
  },
  {
   "cell_type": "code",
   "execution_count": 11,
   "id": "64eaf895",
   "metadata": {
    "execution": {
     "iopub.execute_input": "2025-08-16T13:46:48.717826Z",
     "iopub.status.busy": "2025-08-16T13:46:48.717634Z",
     "iopub.status.idle": "2025-08-16T13:46:48.721873Z",
     "shell.execute_reply": "2025-08-16T13:46:48.721130Z"
    },
    "papermill": {
     "duration": 0.007558,
     "end_time": "2025-08-16T13:46:48.722616",
     "exception": false,
     "start_time": "2025-08-16T13:46:48.715058",
     "status": "completed"
    },
    "tags": []
   },
   "outputs": [],
   "source": [
    "class LRSchedulerLogger(TrainerCallback):\n",
    "    def on_step_end(self, args, state, control, **kwargs):\n",
    "        if state.global_step % 100 == 0:\n",
    "            current_lr = trainer.optimizer.param_groups[0]['lr']\n",
    "            print(f\"Step {state.global_step}: LR = {current_lr:.6e}\")\n",
    "\n",
    "\n",
    "trainer.add_callback(LRSchedulerLogger())"
   ]
  },
  {
   "cell_type": "code",
   "execution_count": 12,
   "id": "c193f634",
   "metadata": {
    "execution": {
     "iopub.execute_input": "2025-08-16T13:46:48.727168Z",
     "iopub.status.busy": "2025-08-16T13:46:48.727013Z",
     "iopub.status.idle": "2025-08-16T14:25:21.730650Z",
     "shell.execute_reply": "2025-08-16T14:25:21.729811Z"
    },
    "papermill": {
     "duration": 2313.008409,
     "end_time": "2025-08-16T14:25:21.732985",
     "exception": false,
     "start_time": "2025-08-16T13:46:48.724576",
     "status": "completed"
    },
    "tags": []
   },
   "outputs": [
    {
     "data": {
      "text/html": [
       "\n",
       "    <div>\n",
       "      \n",
       "      <progress value='1050' max='10000' style='width:300px; height:20px; vertical-align: middle;'></progress>\n",
       "      [ 1050/10000 38:31 < 5:28:59, 0.45 it/s, Epoch 1/14]\n",
       "    </div>\n",
       "    <table border=\"1\" class=\"dataframe\">\n",
       "  <thead>\n",
       " <tr style=\"text-align: left;\">\n",
       "      <th>Step</th>\n",
       "      <th>Training Loss</th>\n",
       "      <th>Validation Loss</th>\n",
       "    </tr>\n",
       "  </thead>\n",
       "  <tbody>\n",
       "    <tr>\n",
       "      <td>50</td>\n",
       "      <td>0.557800</td>\n",
       "      <td>0.312391</td>\n",
       "    </tr>\n",
       "    <tr>\n",
       "      <td>100</td>\n",
       "      <td>0.231500</td>\n",
       "      <td>0.192254</td>\n",
       "    </tr>\n",
       "    <tr>\n",
       "      <td>150</td>\n",
       "      <td>0.171500</td>\n",
       "      <td>0.173264</td>\n",
       "    </tr>\n",
       "    <tr>\n",
       "      <td>200</td>\n",
       "      <td>0.172500</td>\n",
       "      <td>0.163324</td>\n",
       "    </tr>\n",
       "    <tr>\n",
       "      <td>250</td>\n",
       "      <td>0.167100</td>\n",
       "      <td>0.158030</td>\n",
       "    </tr>\n",
       "    <tr>\n",
       "      <td>300</td>\n",
       "      <td>0.163500</td>\n",
       "      <td>0.154259</td>\n",
       "    </tr>\n",
       "    <tr>\n",
       "      <td>350</td>\n",
       "      <td>0.146900</td>\n",
       "      <td>0.149892</td>\n",
       "    </tr>\n",
       "    <tr>\n",
       "      <td>400</td>\n",
       "      <td>0.159500</td>\n",
       "      <td>0.151158</td>\n",
       "    </tr>\n",
       "    <tr>\n",
       "      <td>450</td>\n",
       "      <td>0.164700</td>\n",
       "      <td>0.147853</td>\n",
       "    </tr>\n",
       "    <tr>\n",
       "      <td>500</td>\n",
       "      <td>0.145100</td>\n",
       "      <td>0.148199</td>\n",
       "    </tr>\n",
       "    <tr>\n",
       "      <td>550</td>\n",
       "      <td>0.149600</td>\n",
       "      <td>0.148016</td>\n",
       "    </tr>\n",
       "    <tr>\n",
       "      <td>600</td>\n",
       "      <td>0.149900</td>\n",
       "      <td>0.146791</td>\n",
       "    </tr>\n",
       "    <tr>\n",
       "      <td>650</td>\n",
       "      <td>0.159800</td>\n",
       "      <td>0.146240</td>\n",
       "    </tr>\n",
       "    <tr>\n",
       "      <td>700</td>\n",
       "      <td>0.146800</td>\n",
       "      <td>0.146465</td>\n",
       "    </tr>\n",
       "    <tr>\n",
       "      <td>750</td>\n",
       "      <td>0.160500</td>\n",
       "      <td>0.147413</td>\n",
       "    </tr>\n",
       "    <tr>\n",
       "      <td>800</td>\n",
       "      <td>0.117800</td>\n",
       "      <td>0.147587</td>\n",
       "    </tr>\n",
       "    <tr>\n",
       "      <td>850</td>\n",
       "      <td>0.105300</td>\n",
       "      <td>0.153303</td>\n",
       "    </tr>\n",
       "    <tr>\n",
       "      <td>900</td>\n",
       "      <td>0.108000</td>\n",
       "      <td>0.149692</td>\n",
       "    </tr>\n",
       "    <tr>\n",
       "      <td>950</td>\n",
       "      <td>0.106200</td>\n",
       "      <td>0.151416</td>\n",
       "    </tr>\n",
       "    <tr>\n",
       "      <td>1000</td>\n",
       "      <td>0.096700</td>\n",
       "      <td>0.154680</td>\n",
       "    </tr>\n",
       "    <tr>\n",
       "      <td>1050</td>\n",
       "      <td>0.105000</td>\n",
       "      <td>0.152732</td>\n",
       "    </tr>\n",
       "  </tbody>\n",
       "</table><p>"
      ],
      "text/plain": [
       "<IPython.core.display.HTML object>"
      ]
     },
     "metadata": {},
     "output_type": "display_data"
    },
    {
     "name": "stdout",
     "output_type": "stream",
     "text": [
      "Step 100: LR = 1.000000e-06\n"
     ]
    },
    {
     "name": "stdout",
     "output_type": "stream",
     "text": [
      "Step 200: LR = 2.000000e-06\n"
     ]
    },
    {
     "name": "stdout",
     "output_type": "stream",
     "text": [
      "Step 300: LR = 3.000000e-06\n"
     ]
    },
    {
     "name": "stdout",
     "output_type": "stream",
     "text": [
      "Step 400: LR = 4.000000e-06\n"
     ]
    },
    {
     "name": "stdout",
     "output_type": "stream",
     "text": [
      "Step 500: LR = 5.000000e-06\n"
     ]
    },
    {
     "name": "stdout",
     "output_type": "stream",
     "text": [
      "Step 600: LR = 6.000000e-06\n"
     ]
    },
    {
     "name": "stdout",
     "output_type": "stream",
     "text": [
      "Step 700: LR = 7.000000e-06\n"
     ]
    },
    {
     "name": "stdout",
     "output_type": "stream",
     "text": [
      "Step 800: LR = 8.000000e-06\n"
     ]
    },
    {
     "name": "stdout",
     "output_type": "stream",
     "text": [
      "Step 900: LR = 9.000000e-06\n"
     ]
    },
    {
     "name": "stdout",
     "output_type": "stream",
     "text": [
      "Step 1000: LR = 1.000000e-05\n"
     ]
    },
    {
     "name": "stderr",
     "output_type": "stream",
     "text": [
      "There were missing keys in the checkpoint model loaded: ['lm_head.weight'].\n"
     ]
    },
    {
     "data": {
      "text/plain": [
       "TrainOutput(global_step=1050, training_loss=0.1659748009272984, metrics={'train_runtime': 2312.848, 'train_samples_per_second': 51.884, 'train_steps_per_second': 4.324, 'total_flos': 7.517137987180954e+16, 'train_loss': 0.1659748009272984})"
      ]
     },
     "execution_count": 12,
     "metadata": {},
     "output_type": "execute_result"
    }
   ],
   "source": [
    "trainer.train()"
   ]
  }
 ],
 "metadata": {
  "kernelspec": {
   "display_name": ".venv",
   "language": "python",
   "name": "python3"
  },
  "language_info": {
   "codemirror_mode": {
    "name": "ipython",
    "version": 3
   },
   "file_extension": ".py",
   "mimetype": "text/x-python",
   "name": "python",
   "nbconvert_exporter": "python",
   "pygments_lexer": "ipython3",
   "version": "3.10.12"
  },
  "papermill": {
   "default_parameters": {},
   "duration": 2321.584231,
   "end_time": "2025-08-16T14:25:23.097614",
   "environment_variables": {},
   "exception": null,
   "input_path": "/home/odedh/SML-For-Debug/sft_train.ipynb",
   "output_path": "/home/odedh/SML-For-Debug/sft_train_0.5.ipynb",
   "parameters": {},
   "start_time": "2025-08-16T13:46:41.513383",
   "version": "2.6.0"
  }
 },
 "nbformat": 4,
 "nbformat_minor": 5
}