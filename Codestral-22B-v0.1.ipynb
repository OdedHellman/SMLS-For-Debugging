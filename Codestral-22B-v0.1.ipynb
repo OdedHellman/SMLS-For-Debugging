{
 "cells": [
  {
   "cell_type": "code",
   "execution_count": null,
   "id": "08650f12",
   "metadata": {},
   "outputs": [],
   "source": [
    "# !pip install accelerate"
   ]
  },
  {
   "cell_type": "code",
   "execution_count": null,
   "id": "98a95726",
   "metadata": {},
   "outputs": [],
   "source": [
    "import os\n",
    "from transformers import AutoModelForCausalLM, AutoTokenizer\n",
    "import torch\n",
    "import time\n",
    "\n",
    "os.environ[\"HF_TOKEN\"] = \"hf_XXXXXX\"  # Replace with your Hugging Face token"
   ]
  },
  {
   "cell_type": "code",
   "execution_count": null,
   "id": "21e093ab",
   "metadata": {},
   "outputs": [],
   "source": [
    "model_id = \"/home/odedh/SML-For-Debug/models/Codestral-22B-v0.1\"\n",
    "# model_id = \"/home/odedh/SML-For-Debug/models/Qwen3-0.6B\"\n",
    "# model_id = \"/home/odedh/SML-For-Debug/models/Llama-3.2-1B-Instruct\"\n",
    "\n",
    "tokenizer = AutoTokenizer.from_pretrained(model_id)\n",
    "device = \"cuda\" if torch.cuda.is_available() else \"cpu\"\n",
    "start = time.time()\n",
    "model = AutoModelForCausalLM.from_pretrained(\n",
    "    model_id,\n",
    "    device_map=\"auto\",\n",
    "    torch_dtype=torch.float16,\n",
    "    trust_remote_code=True  # Make sure custom model logic loads\n",
    ")\n",
    "\n",
    "print(f\"Model loaded in {time.time() - start:.2f} seconds\")\n",
    "\n",
    "text = \"Hello my name is\"\n",
    "inputs = tokenizer(text, return_tensors=\"pt\").to(model.device)\n",
    "\n",
    "with torch.inference_mode():\n",
    "    outputs = model.generate(**inputs, max_new_tokens=200)\n",
    "\n",
    "print(tokenizer.decode(outputs[0], skip_special_tokens=True))\n"
   ]
  }
 ],
 "metadata": {
  "kernelspec": {
   "display_name": ".venv",
   "language": "python",
   "name": "python3"
  },
  "language_info": {
   "codemirror_mode": {
    "name": "ipython",
    "version": 3
   },
   "file_extension": ".py",
   "mimetype": "text/x-python",
   "name": "python",
   "nbconvert_exporter": "python",
   "pygments_lexer": "ipython3",
   "version": "3.10.12"
  }
 },
 "nbformat": 4,
 "nbformat_minor": 5
}
