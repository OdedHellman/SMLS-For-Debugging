{
 "cells": [
  {
   "cell_type": "code",
   "execution_count": 3,
   "id": "80a041f1",
   "metadata": {},
   "outputs": [],
   "source": [
    "# !pip install jsonlines"
   ]
  },
  {
   "cell_type": "code",
   "execution_count": 1,
   "id": "3c015c07",
   "metadata": {},
   "outputs": [],
   "source": [
    "from pydantic import BaseModel, Field\n",
    "from enum import Enum\n",
    "from typing import Optional, List\n",
    "from openai import OpenAI\n",
    "from typing import Dict\n",
    "from tqdm import tqdm\n",
    "import json\n",
    "import jsonlines\n",
    "import os\n",
    "import re\n",
    "import pandas as pd\n",
    "import matplotlib.pyplot as plt\n",
    "import seaborn as sns\n",
    "\n",
    "from sklearn.metrics import precision_score, recall_score, f1_score, confusion_matrix\n"
   ]
  },
  {
   "cell_type": "code",
   "execution_count": 11,
   "id": "9f6eac6b",
   "metadata": {},
   "outputs": [],
   "source": [
    "OUTPUT_BENCHMARK = \"benchmark_results_Llama-1B_no_finetunes.json\""
   ]
  },
  {
   "cell_type": "code",
   "execution_count": null,
   "id": "945873e2",
   "metadata": {},
   "outputs": [],
   "source": [
    "client = OpenAI(\n",
    "    base_url=\"http://localhost:8001/v1\",\n",
    "    api_key=\"-\",\n",
    ")\n",
    "model = client.models.list().data[0].id\n",
    "model"
   ]
  },
  {
   "cell_type": "code",
   "execution_count": 3,
   "id": "3f80ae78",
   "metadata": {},
   "outputs": [],
   "source": [
    "class BugStatus(str, Enum):\n",
    "    BUG = \"True\"\n",
    "    NO_BUG = \"False\"\n",
    "\n",
    "class ClassificationResult(BaseModel):\n",
    "    has_bug: BugStatus\n",
    "    bugs_free_version: str = Field(default=None, description=\"Optional fix attempt if model detects a bug - Use it only in case of a bug! else, set null\")\n",
    "\n",
    "json_schema = ClassificationResult.model_json_schema()"
   ]
  },
  {
   "cell_type": "code",
   "execution_count": 8,
   "id": "91a762e1",
   "metadata": {},
   "outputs": [],
   "source": [
    "def benchmark_openai_structured_model(\n",
    "    test_data: List[Dict],\n",
    "    client,\n",
    "    json_schema: dict,\n",
    "    output_path: str = None,\n",
    "    temperature: float = 0.0,\n",
    "    max_tokens: int = 2056,\n",
    "    save_every: int = 25,\n",
    "    start_index: int = 0,\n",
    "):\n",
    "    benchmark_results = []\n",
    "\n",
    "    # Check if output file exists and resume from there\n",
    "    if output_path and os.path.exists(output_path):\n",
    "        with open(output_path, \"r\") as f:\n",
    "            benchmark_results = json.load(f)\n",
    "        start_index = len(benchmark_results)\n",
    "        print(f\"Resuming from index {start_index}, loaded {len(benchmark_results)} existing results.\")\n",
    "\n",
    "    for i in tqdm(range(start_index, len(test_data)), desc=f\"Benchmarking {model}\"):\n",
    "        entry = test_data[i]\n",
    "        messages = [m for m in entry[\"messages\"] if m[\"role\"] != \"assistant\"]\n",
    "\n",
    "        try:\n",
    "            completion = client.chat.completions.create(\n",
    "                model=model,\n",
    "                temperature=temperature,\n",
    "                max_tokens=max_tokens,\n",
    "                messages=[\n",
    "                    entry[\"messages\"][0], # System message\n",
    "                    entry[\"messages\"][1], # User message\n",
    "                ],\n",
    "                # response_format={\n",
    "                #     \"type\": \"json_schema\",\n",
    "                #     \"json_schema\": {\n",
    "                #         \"name\": \"code-diagnostic\",\n",
    "                #         \"schema\": json_schema\n",
    "                #     },\n",
    "                # },\n",
    "            )\n",
    "\n",
    "            output_content = completion.choices[0].message.content\n",
    "            # cleaned_output = re.sub(r\"<think>.*?</think>\", \"\", output_content, flags=re.DOTALL)\n",
    "\n",
    "            benchmark_results.append({\n",
    "                \"index\": i,\n",
    "                \"input\": messages,\n",
    "                \"output\": output_content\n",
    "            })\n",
    "\n",
    "        except Exception as e:\n",
    "            benchmark_results.append({\n",
    "                \"index\": i,\n",
    "                \"input\": messages,\n",
    "                \"error\": str(e)\n",
    "            })\n",
    "\n",
    "        # Save progress every `save_every` entries\n",
    "        if output_path and (i + 1) % save_every == 0:\n",
    "            with open(output_path, \"w\") as f:\n",
    "                json.dump(benchmark_results, f, indent=2)\n",
    "            \n",
    "\n",
    "    # Final save\n",
    "    if output_path:\n",
    "        with open(output_path, \"w\") as f:\n",
    "            json.dump(benchmark_results, f, indent=2)\n",
    "        print(\"Final results saved.\")\n",
    "\n",
    "    return benchmark_results"
   ]
  },
  {
   "cell_type": "code",
   "execution_count": null,
   "id": "f2bbc40e",
   "metadata": {},
   "outputs": [],
   "source": [
    "# FIXME - a tmp remove\n",
    "# os.remove(\"/home/odedh/SML-For-Debug/benchmark/benchmark_results_Qwen3-0.6B_no_finetunes.json\")\n",
    "\n",
    "with jsonlines.open(\"/home/odedh/SML-For-Debug/data/dataset/pyresbugs_test.jsonl\") as reader:\n",
    "    test_set = list(reader)\n",
    "\n",
    "results = benchmark_openai_structured_model(\n",
    "    test_data=test_set,\n",
    "    client=client,\n",
    "    json_schema=json_schema,\n",
    "    output_path=OUTPUT_BENCHMARK,\n",
    "    save_every=10,\n",
    ")"
   ]
  },
  {
   "cell_type": "markdown",
   "id": "f1a794ac",
   "metadata": {},
   "source": [
    "### Creating the benchmark DF"
   ]
  },
  {
   "cell_type": "code",
   "execution_count": 12,
   "id": "4936e8e1",
   "metadata": {},
   "outputs": [],
   "source": [
    "benchmark_path = f\"/home/odedh/SML-For-Debug/benchmark/outputs/{OUTPUT_BENCHMARK}\"\n",
    "dataset_path = \"/home/odedh/SML-For-Debug/data/dataset/pyresbugs_test.jsonl\""
   ]
  },
  {
   "cell_type": "code",
   "execution_count": 13,
   "id": "efce9a1d",
   "metadata": {},
   "outputs": [],
   "source": [
    "def robust_tagged_parse(text):\n",
    "    \"\"\"\n",
    "    Parses a model output that includes custom tags such as <BOOL>, <CODE>, <think>, etc.,\n",
    "    and extracts the structured information based on these tags.\n",
    "    \"\"\"\n",
    "    if not isinstance(text, str):\n",
    "        return None\n",
    "\n",
    "    # Extract the <think> section if present\n",
    "    thinking_match = re.search(r\"<think>(.*?)</think>\", text, flags=re.DOTALL)\n",
    "    thinking = thinking_match.group(1).strip() if thinking_match else None\n",
    "    cleaned = re.sub(r\"<think>.*?</think>\", \"\", text, flags=re.DOTALL)\n",
    "\n",
    "    # Extract <BOOL>...<BOOL> or <BOOL>... or ...<BOOL>\n",
    "    bool_match = re.search(r\"<BOOL>(.*?)<BOOL>\", cleaned)\n",
    "    if bool_match:\n",
    "        has_bug = next(filter(None, bool_match.groups()), \"\").strip()\n",
    "    else:\n",
    "        has_bug = None\n",
    "\n",
    "    # Extract <CODE>...</CODE>, <CODE/>, or <CODE>... end of string\n",
    "    code_match = re.search(r\"<CODE>(.*?)</CODE>|<CODE>(.*)<CODE>\", cleaned, flags=re.DOTALL)\n",
    "    if code_match:\n",
    "        bugs_free_version = f'<CODE>{next(filter(None, code_match.groups()), \"\").strip()}<CODE>'\n",
    "    else:\n",
    "        bugs_free_version = None\n",
    "\n",
    "    return {\n",
    "        \"has_bug\": has_bug,\n",
    "        \"bugs_free_version\": bugs_free_version,\n",
    "        \"thinking\": thinking\n",
    "    }\n"
   ]
  },
  {
   "cell_type": "code",
   "execution_count": 14,
   "id": "a2258ce9",
   "metadata": {},
   "outputs": [
    {
     "ename": "KeyError",
     "evalue": "'messages'",
     "output_type": "error",
     "traceback": [
      "\u001b[0;31m---------------------------------------------------------------------------\u001b[0m",
      "\u001b[0;31mKeyError\u001b[0m                                  Traceback (most recent call last)",
      "Cell \u001b[0;32mIn[14], line 15\u001b[0m\n\u001b[1;32m     11\u001b[0m records \u001b[38;5;241m=\u001b[39m []\n\u001b[1;32m     13\u001b[0m \u001b[38;5;28;01mfor\u001b[39;00m entry_gt, entry_model \u001b[38;5;129;01min\u001b[39;00m \u001b[38;5;28mzip\u001b[39m(dataset, benchmark_data):\n\u001b[1;32m     14\u001b[0m     \u001b[38;5;66;03m# Extract ground truth\u001b[39;00m\n\u001b[0;32m---> 15\u001b[0m     user_msg \u001b[38;5;241m=\u001b[39m \u001b[38;5;28mnext\u001b[39m(m \u001b[38;5;28;01mfor\u001b[39;00m m \u001b[38;5;129;01min\u001b[39;00m \u001b[43mentry_gt\u001b[49m\u001b[43m[\u001b[49m\u001b[38;5;124;43m\"\u001b[39;49m\u001b[38;5;124;43mmessages\u001b[39;49m\u001b[38;5;124;43m\"\u001b[39;49m\u001b[43m]\u001b[49m \u001b[38;5;28;01mif\u001b[39;00m m[\u001b[38;5;124m\"\u001b[39m\u001b[38;5;124mrole\u001b[39m\u001b[38;5;124m\"\u001b[39m] \u001b[38;5;241m==\u001b[39m \u001b[38;5;124m\"\u001b[39m\u001b[38;5;124muser\u001b[39m\u001b[38;5;124m\"\u001b[39m)\n\u001b[1;32m     16\u001b[0m     assistant_msg \u001b[38;5;241m=\u001b[39m \u001b[38;5;28mnext\u001b[39m(m \u001b[38;5;28;01mfor\u001b[39;00m m \u001b[38;5;129;01min\u001b[39;00m entry_gt[\u001b[38;5;124m\"\u001b[39m\u001b[38;5;124mmessages\u001b[39m\u001b[38;5;124m\"\u001b[39m] \u001b[38;5;28;01mif\u001b[39;00m m[\u001b[38;5;124m\"\u001b[39m\u001b[38;5;124mrole\u001b[39m\u001b[38;5;124m\"\u001b[39m] \u001b[38;5;241m==\u001b[39m \u001b[38;5;124m\"\u001b[39m\u001b[38;5;124massistant\u001b[39m\u001b[38;5;124m\"\u001b[39m)\n\u001b[1;32m     17\u001b[0m     source_code \u001b[38;5;241m=\u001b[39m \u001b[38;5;28mstr\u001b[39m(user_msg[\u001b[38;5;124m\"\u001b[39m\u001b[38;5;124mcontent\u001b[39m\u001b[38;5;124m\"\u001b[39m])\n",
      "\u001b[0;31mKeyError\u001b[0m: 'messages'"
     ]
    }
   ],
   "source": [
    "with open(benchmark_path, \"r\") as f:\n",
    "    benchmark_data = json.load(f)\n",
    "\n",
    "# Load JSONL dataset\n",
    "dataset = []\n",
    "with open(dataset_path, \"r\") as f:\n",
    "    for line in f:\n",
    "        dataset.append(json.loads(line))\n",
    "\n",
    "# Build dataframe\n",
    "records = []\n",
    "\n",
    "for entry_gt, entry_model in zip(dataset, benchmark_data):\n",
    "    # Extract ground truth\n",
    "    user_msg = next(m for m in entry_gt[\"messages\"] if m[\"role\"] == \"user\")\n",
    "    assistant_msg = next(m for m in entry_gt[\"messages\"] if m[\"role\"] == \"assistant\")\n",
    "    source_code = str(user_msg[\"content\"])\n",
    "    prompt = entry_gt[\"messages\"][0][\"content\"]\n",
    "\n",
    "    try:\n",
    "        gt_response = json.loads(assistant_msg[\"content\"])\n",
    "        gt_is_buggy = 'true' in gt_response['has_bug'].lower()\n",
    "        gt_fix = gt_response.get(\"Code\", None)\n",
    "    except Exception:\n",
    "        gt_is_buggy = None\n",
    "        gt_fix = None\n",
    "        gt_acronym = None\n",
    "\n",
    "    # Extract model output\n",
    "    try:\n",
    "        model_output = robust_tagged_parse(entry_model[\"output\"])\n",
    "        model_is_buggy = \"true\" in model_output.get(\"has_bug\", \"\").lower()\n",
    "        model_fix = model_output.get(\"bugs_free_version\", None)\n",
    "        model_thinking = model_output.get(\"thinking\", None)\n",
    "    except Exception as e:\n",
    "        model_is_buggy = None\n",
    "        model_fix = None\n",
    "        model_thinking = None\n",
    "\n",
    "    records.append({\n",
    "        \"input_prompt\": prompt.strip(),\n",
    "        \"source_code\": source_code.strip(),\n",
    "        \"ground_truth_is_buggy\": gt_is_buggy,\n",
    "        \"ground_truth_fix\": gt_fix,\n",
    "        \"model_is_buggy\": model_is_buggy,\n",
    "        \"model_suggested_fix\": model_fix,\n",
    "        \"model_thinking\": model_thinking,\n",
    "    })\n",
    "\n",
    "df = pd.DataFrame(records)\n",
    "df\n"
   ]
  },
  {
   "cell_type": "markdown",
   "id": "7bdcf315",
   "metadata": {},
   "source": [
    "### EDA"
   ]
  },
  {
   "cell_type": "code",
   "execution_count": 43,
   "id": "c562b496",
   "metadata": {},
   "outputs": [
    {
     "data": {
      "image/png": "[encoded data removed]",
      "text/plain": [
       "<Figure size 800x600 with 2 Axes>"
      ]
     },
     "metadata": {},
     "output_type": "display_data"
    },
    {
     "data": {
      "text/plain": [
       "{'precision': 0.47038327526132406,\n",
       " 'recall': 0.6,\n",
       " 'f1_score': 0.52734375,\n",
       " 'confusion_matrix': [[187, 304], [180, 270]],\n",
       " 'total_samples': 941}"
      ]
     },
     "execution_count": 43,
     "metadata": {},
     "output_type": "execute_result"
    }
   ],
   "source": [
    "# Filter rows where model prediction exists and ground truth is defined\n",
    "valid_df = df[df[\"model_is_buggy\"].notnull(\n",
    ") & df[\"ground_truth_is_buggy\"].notnull()]\n",
    "\n",
    "# Ensure both are booleans\n",
    "y_true = valid_df[\"ground_truth_is_buggy\"].astype(bool)\n",
    "y_pred = valid_df[\"model_is_buggy\"].astype(bool)\n",
    "\n",
    "# Basic classification metrics\n",
    "precision = precision_score(y_true, y_pred)\n",
    "recall = recall_score(y_true, y_pred)\n",
    "f1 = f1_score(y_true, y_pred)\n",
    "conf_matrix = confusion_matrix(y_true, y_pred)\n",
    "\n",
    "# plot the confusion matrix\n",
    "\n",
    "plt.figure(figsize=(8, 6))\n",
    "sns.heatmap(conf_matrix, annot=True, fmt='d', cmap='Blues',\n",
    "            xticklabels=[\"No Bug\", \"Bug\"], yticklabels=[\"No Bug\", \"Bug\"])\n",
    "plt.xlabel('Predicted')\n",
    "plt.ylabel('Actual')\n",
    "plt.title('Confusion Matrix')\n",
    "plt.show()\n",
    "# Return all to user\n",
    "{\n",
    "    \"precision\": precision,\n",
    "    \"recall\": recall,\n",
    "    \"f1_score\": f1,\n",
    "    \"confusion_matrix\": conf_matrix.tolist(),\n",
    "    \"total_samples\": len(valid_df)\n",
    "}"
   ]
  }
 ],
 "metadata": {
  "kernelspec": {
   "display_name": ".venv",
   "language": "python",
   "name": "python3"
  },
  "language_info": {
   "codemirror_mode": {
    "name": "ipython",
    "version": 3
   },
   "file_extension": ".py",
   "mimetype": "text/x-python",
   "name": "python",
   "nbconvert_exporter": "python",
   "pygments_lexer": "ipython3",
   "version": "3.10.12"
  }
 },
 "nbformat": 4,
 "nbformat_minor": 5
}
